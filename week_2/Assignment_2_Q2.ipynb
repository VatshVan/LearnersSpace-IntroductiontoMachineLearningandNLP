{
  "cells": [
    {
      "cell_type": "markdown",
      "id": "Dj0rMXtlDdcn",
      "metadata": {
        "id": "Dj0rMXtlDdcn"
      },
      "source": [
        "# Problem 2: Twitter US Airline Sentiment Classification"
      ]
    },
    {
      "cell_type": "code",
      "execution_count": null,
      "id": "-8YELVMEGWhC",
      "metadata": {
        "id": "-8YELVMEGWhC"
      },
      "outputs": [],
      "source": [
        "!pip install gensim\n",
        "!pip install contractions"
      ]
    },
    {
      "cell_type": "code",
      "execution_count": 2,
      "id": "AH38TIWWDdcr",
      "metadata": {
        "colab": {
          "base_uri": "https://localhost:8080/"
        },
        "id": "AH38TIWWDdcr",
        "outputId": "a2cb02ef-0190-4823-bffb-692e276fdad6"
      },
      "outputs": [
        {
          "name": "stderr",
          "output_type": "stream",
          "text": [
            "[nltk_data] Downloading package punkt to /root/nltk_data...\n",
            "[nltk_data]   Unzipping tokenizers/punkt.zip.\n",
            "[nltk_data] Downloading package wordnet to /root/nltk_data...\n",
            "[nltk_data] Downloading package omw-1.4 to /root/nltk_data...\n",
            "[nltk_data] Downloading package stopwords to /root/nltk_data...\n",
            "[nltk_data]   Unzipping corpora/stopwords.zip.\n"
          ]
        },
        {
          "data": {
            "text/plain": [
              "True"
            ]
          },
          "execution_count": 2,
          "metadata": {},
          "output_type": "execute_result"
        }
      ],
      "source": [
        "import pandas as pd\n",
        "import numpy as np\n",
        "import re\n",
        "import string\n",
        "import gensim.downloader as api\n",
        "from nltk.corpus import stopwords\n",
        "from nltk.stem import WordNetLemmatizer\n",
        "from nltk.tokenize import word_tokenize\n",
        "from sklearn.model_selection import train_test_split\n",
        "from sklearn.linear_model import LogisticRegression\n",
        "from sklearn.metrics import accuracy_score\n",
        "import contractions\n",
        "import nltk\n",
        "\n",
        "nltk.download('punkt')\n",
        "nltk.download('wordnet')\n",
        "nltk.download('omw-1.4')\n",
        "nltk.download('stopwords')"
      ]
    },
    {
      "cell_type": "code",
      "execution_count": 9,
      "id": "sZO3tpW2JY5V",
      "metadata": {
        "colab": {
          "base_uri": "https://localhost:8080/"
        },
        "id": "sZO3tpW2JY5V",
        "outputId": "9f9325a3-a941-4df2-fb59-bc10e6eb0281"
      },
      "outputs": [
        {
          "name": "stderr",
          "output_type": "stream",
          "text": [
            "[nltk_data] Downloading package punkt_tab to /root/nltk_data...\n",
            "[nltk_data]   Unzipping tokenizers/punkt_tab.zip.\n"
          ]
        },
        {
          "data": {
            "text/plain": [
              "True"
            ]
          },
          "execution_count": 9,
          "metadata": {},
          "output_type": "execute_result"
        }
      ],
      "source": [
        "nltk.download('punkt_tab')"
      ]
    },
    {
      "cell_type": "code",
      "execution_count": 4,
      "id": "FNwJl6CyDdct",
      "metadata": {
        "id": "FNwJl6CyDdct"
      },
      "outputs": [],
      "source": [
        "def preprocess_text(text):\n",
        "    text = text.lower()\n",
        "    text = re.sub(r'http\\S+|www.\\S+', '', text)\n",
        "    text = re.sub(r'@\\w+|#\\w+|[^\\w\\s]', '', text)\n",
        "    text = contractions.fix(text)\n",
        "    tokens = word_tokenize(text)\n",
        "    lemmatizer = WordNetLemmatizer()\n",
        "    tokens = [lemmatizer.lemmatize(token) for token in tokens]\n",
        "    text = ' '.join([word for word in tokens if word.isalpha()])\n",
        "    return text"
      ]
    },
    {
      "cell_type": "code",
      "execution_count": 5,
      "id": "ETHo4MQ_Ddcv",
      "metadata": {
        "colab": {
          "base_uri": "https://localhost:8080/"
        },
        "id": "ETHo4MQ_Ddcv",
        "outputId": "cb23e5c2-a5c1-4413-cf51-d7d6a099029a"
      },
      "outputs": [
        {
          "name": "stdout",
          "output_type": "stream",
          "text": [
            "[==================================================] 100.0% 1662.8/1662.8MB downloaded\n"
          ]
        }
      ],
      "source": [
        "w2v_model = api.load('word2vec-google-news-300')"
      ]
    },
    {
      "cell_type": "code",
      "execution_count": 6,
      "id": "rtkDsSy2Ddcw",
      "metadata": {
        "id": "rtkDsSy2Ddcw"
      },
      "outputs": [],
      "source": [
        "def tweet_to_vector(tweet, w2v_model):\n",
        "    words = tweet.split()\n",
        "    word_vectors = []\n",
        "    for word in words:\n",
        "        if word in w2v_model:\n",
        "            word_vectors.append(w2v_model[word])\n",
        "    if word_vectors:\n",
        "        return np.mean(word_vectors, axis=0)\n",
        "    else:\n",
        "        return np.zeros(w2v_model.vector_size)"
      ]
    },
    {
      "cell_type": "code",
      "execution_count": 7,
      "id": "fNn7gMfjDdcw",
      "metadata": {
        "colab": {
          "base_uri": "https://localhost:8080/"
        },
        "id": "fNn7gMfjDdcw",
        "outputId": "e9c4af8d-9b7a-443a-82df-470d980f17ff"
      },
      "outputs": [
        {
          "name": "stdout",
          "output_type": "stream",
          "text": [
            "  airline_sentiment                                               text\n",
            "0           neutral                @VirginAmerica What @dhepburn said.\n",
            "1          positive  @VirginAmerica plus you've added commercials t...\n",
            "2           neutral  @VirginAmerica I didn't today... Must mean I n...\n",
            "3          negative  @VirginAmerica it's really aggressive to blast...\n",
            "4          negative  @VirginAmerica and it's a really big bad thing...\n"
          ]
        }
      ],
      "source": [
        "df = pd.read_csv('Tweets.csv')\n",
        "df = df[['airline_sentiment', 'text']]\n",
        "print(df.head())"
      ]
    },
    {
      "cell_type": "code",
      "execution_count": 10,
      "id": "H52l1T8zDdcx",
      "metadata": {
        "id": "H52l1T8zDdcx"
      },
      "outputs": [],
      "source": [
        "df['clean_text'] = df['text'].apply(preprocess_text)\n",
        "df['vector'] = df['clean_text'].apply(lambda x: tweet_to_vector(x, w2v_model))\n",
        "\n",
        "X = np.array(df['vector'].tolist())\n",
        "y = df['airline_sentiment']\n",
        "\n",
        "X_train, X_test, y_train, y_test = train_test_split(X, y, test_size=0.2, random_state=42)"
      ]
    },
    {
      "cell_type": "code",
      "execution_count": 11,
      "id": "ZITAAcO8Ddcz",
      "metadata": {
        "colab": {
          "base_uri": "https://localhost:8080/"
        },
        "id": "ZITAAcO8Ddcz",
        "outputId": "88161319-3825-4851-9579-72e1c5de3ffb"
      },
      "outputs": [
        {
          "name": "stdout",
          "output_type": "stream",
          "text": [
            "Test Accuracy: 0.7869\n"
          ]
        }
      ],
      "source": [
        "model = LogisticRegression(max_iter=1000)\n",
        "model.fit(X_train, y_train)\n",
        "\n",
        "y_pred = model.predict(X_test)\n",
        "accuracy = accuracy_score(y_test, y_pred)\n",
        "\n",
        "print(f'Test Accuracy: {accuracy:.4f}')"
      ]
    },
    {
      "cell_type": "code",
      "execution_count": 12,
      "id": "tRkCYkV_Ddcz",
      "metadata": {
        "id": "tRkCYkV_Ddcz"
      },
      "outputs": [],
      "source": [
        "def predict_tweet_sentiment(model, w2v_model, tweet):\n",
        "    processed = preprocess_text(tweet)\n",
        "    vector = tweet_to_vector(processed, w2v_model).reshape(1, -1)\n",
        "    prediction = model.predict(vector)[0]\n",
        "    return prediction"
      ]
    },
    {
      "cell_type": "code",
      "execution_count": 13,
      "id": "I5AZugi1Ddc2",
      "metadata": {
        "colab": {
          "base_uri": "https://localhost:8080/"
        },
        "id": "I5AZugi1Ddc2",
        "outputId": "b5b82866-1285-42ad-e0fc-7421e0a71945"
      },
      "outputs": [
        {
          "name": "stdout",
          "output_type": "stream",
          "text": [
            "Predicted Sentiment: positive\n"
          ]
        }
      ],
      "source": [
        "example_tweet = 'I had a great experience with the airline today!'\n",
        "predicted_sentiment = predict_tweet_sentiment(model, w2v_model, example_tweet)\n",
        "print(f'Predicted Sentiment: {predicted_sentiment}')"
      ]
    }
  ],
  "metadata": {
    "colab": {
      "provenance": []
    },
    "kernelspec": {
      "display_name": "Python 3",
      "language": "python",
      "name": "python3"
    },
    "language_info": {
      "codemirror_mode": {
        "name": "ipython",
        "version": 3
      },
      "file_extension": ".py",
      "mimetype": "text/x-python",
      "name": "python",
      "nbconvert_exporter": "python",
      "pygments_lexer": "ipython3",
      "version": "3.11"
    }
  },
  "nbformat": 4,
  "nbformat_minor": 5
}
