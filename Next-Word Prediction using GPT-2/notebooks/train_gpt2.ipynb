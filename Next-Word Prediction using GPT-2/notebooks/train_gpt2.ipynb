{
 "cells": [
  {
   "cell_type": "markdown",
   "id": "a9ac6cf2",
   "metadata": {},
   "source": [
    "# Next-Word Prediction using GPT-2\n",
    "This notebook demonstrates how to fine-tune a pretrained GPT-2 model on the WikiText-2 dataset for next-word prediction. We use Hugging Face's `transformers`, `datasets`, and `Trainer` API.\n",
    "\n",
    "**Goals:**\n",
    "- Tokenize text\n",
    "- Fine-tune GPT-2 using causal language modeling\n",
    "- Evaluate using perplexity and top-k accuracy\n",
    "- (Optional) Deploy a demo with Gradio"
   ]
  },
  {
   "cell_type": "code",
   "execution_count": null,
   "id": "487c83bf",
   "metadata": {},
   "outputs": [],
   "source": [
    "!pip install transformers datasets evaluate accelerate gradio"
   ]
  },
  {
   "cell_type": "code",
   "execution_count": null,
   "id": "7292774b",
   "metadata": {},
   "outputs": [],
   "source": [
    "import sys\n",
    "import json\n",
    "import os\n",
    "import torch\n",
    "import numpy as np\n",
    "from datasets import load_dataset\n",
    "from datasets import load_from_disk\n",
    "from transformers import GPT2LMHeadModel, GPT2Tokenizer, Trainer, TrainingArguments, DataCollatorForLanguageModeling\n",
    "import evaluate\n",
    "import math\n",
    "import gradio as gr"
   ]
  },
  {
   "cell_type": "markdown",
   "id": "191df78c",
   "metadata": {},
   "source": [
    "## Load and Inspect Dataset"
   ]
  },
  {
   "cell_type": "code",
   "execution_count": null,
   "id": "90018ffc",
   "metadata": {},
   "outputs": [],
   "source": [
    "dataset = load_dataset('wikitext', 'wikitext-2-raw-v1')\n",
    "print(dataset)"
   ]
  },
  {
   "cell_type": "markdown",
   "id": "dbf22a85",
   "metadata": {},
   "source": [
    "## Tokenize the Text"
   ]
  },
  {
   "cell_type": "markdown",
   "id": "901a6157",
   "metadata": {},
   "source": [
    "#### For one time loading the dataset, uncomment and run this"
   ]
  },
  {
   "cell_type": "code",
   "execution_count": null,
   "id": "2bd52532",
   "metadata": {},
   "outputs": [],
   "source": [
    "# tokenizer = GPT2Tokenizer.from_pretrained('gpt2')\n",
    "# tokenizer.pad_token = tokenizer.eos_token  # GPT2 doesn't have pad_token\n",
    "\n",
    "# def tokenize_function(examples):\n",
    "#     return tokenizer(examples['text'], truncation=True, padding='max_length', max_length=128)\n",
    "\n",
    "# tokenized_datasets = dataset.map(tokenize_function, batched=True, remove_columns=['text'])\n",
    "\n",
    "# os.makedirs(\"data/wikitext\", exist_ok=True)\n",
    "# tokenized_datasets[\"train\"].save_to_disk(\"data/wikitext/train_tokenized\")\n",
    "# tokenized_datasets[\"validation\"].save_to_disk(\"data/wikitext/val_tokenized\")"
   ]
  },
  {
   "cell_type": "markdown",
   "id": "ca6edd76",
   "metadata": {},
   "source": [
    "#### For recurring Use(After first time, use this)"
   ]
  },
  {
   "cell_type": "code",
   "execution_count": null,
   "id": "af2364a0",
   "metadata": {},
   "outputs": [],
   "source": [
    "tokenized_datasets = {\n",
    "    \"train\": load_from_disk(\"data/wikitext/train_tokenized\"),\n",
    "    \"validation\": load_from_disk(\"data/wikitext/val_tokenized\")\n",
    "}\n",
    "\n",
    "tokenizer = GPT2Tokenizer.from_pretrained('gpt2')\n",
    "tokenizer.pad_token = tokenizer.eos_token"
   ]
  },
  {
   "cell_type": "markdown",
   "id": "942447e8",
   "metadata": {},
   "source": [
    "## Load GPT-2 Model"
   ]
  },
  {
   "cell_type": "code",
   "execution_count": 7,
   "id": "f7df1094",
   "metadata": {},
   "outputs": [
    {
     "data": {
      "text/plain": [
       "Embedding(50257, 768)"
      ]
     },
     "execution_count": 7,
     "metadata": {},
     "output_type": "execute_result"
    }
   ],
   "source": [
    "model = GPT2LMHeadModel.from_pretrained('gpt2')\n",
    "model.resize_token_embeddings(len(tokenizer))"
   ]
  },
  {
   "cell_type": "markdown",
   "id": "721bc84d",
   "metadata": {},
   "source": [
    "## Prepare Training Components"
   ]
  },
  {
   "cell_type": "markdown",
   "id": "bcb1a4d8",
   "metadata": {},
   "source": [
    "#### Selected only a subset of dataset here"
   ]
  },
  {
   "cell_type": "code",
   "execution_count": null,
   "id": "685eb007",
   "metadata": {},
   "outputs": [],
   "source": [
    "# Subset the dataset\n",
    "small_train_dataset = tokenized_datasets['train'].shuffle(seed=42).select(range(2000))\n",
    "small_eval_dataset = tokenized_datasets['validation'].shuffle(seed=42).select(range(400))\n",
    "\n",
    "# Data collator\n",
    "data_collator = DataCollatorForLanguageModeling(tokenizer=tokenizer, mlm=False)\n",
    "\n",
    "# Training arguments\n",
    "training_args = TrainingArguments(\n",
    "    output_dir='./model/checkpoints',\n",
    "    eval_strategy='epoch',\n",
    "    save_strategy='epoch',\n",
    "    learning_rate=2e-5,\n",
    "    weight_decay=0.01,\n",
    "    per_device_train_batch_size=16,\n",
    "    per_device_eval_batch_size=16,\n",
    "    num_train_epochs=3,\n",
    "    save_total_limit=2,\n",
    "    logging_steps=200,\n",
    "    fp16=torch.cuda.is_available(),\n",
    "    push_to_hub=False\n",
    ")"
   ]
  },
  {
   "cell_type": "markdown",
   "id": "b8a94679",
   "metadata": {},
   "source": [
    "## Train the Model"
   ]
  },
  {
   "cell_type": "code",
   "execution_count": 33,
   "id": "5bdaf5d9",
   "metadata": {},
   "outputs": [
    {
     "name": "stderr",
     "output_type": "stream",
     "text": [
      "C:\\Users\\Vatsh Van\\AppData\\Local\\Temp\\ipykernel_39808\\1207276172.py:2: FutureWarning: `tokenizer` is deprecated and will be removed in version 5.0.0 for `Trainer.__init__`. Use `processing_class` instead.\n",
      "  trainer = Trainer(\n"
     ]
    },
    {
     "data": {
      "text/html": [
       "\n",
       "    <div>\n",
       "      \n",
       "      <progress value='375' max='375' style='width:300px; height:20px; vertical-align: middle;'></progress>\n",
       "      [375/375 1:39:25, Epoch 3/3]\n",
       "    </div>\n",
       "    <table border=\"1\" class=\"dataframe\">\n",
       "  <thead>\n",
       " <tr style=\"text-align: left;\">\n",
       "      <th>Epoch</th>\n",
       "      <th>Training Loss</th>\n",
       "      <th>Validation Loss</th>\n",
       "    </tr>\n",
       "  </thead>\n",
       "  <tbody>\n",
       "    <tr>\n",
       "      <td>1</td>\n",
       "      <td>No log</td>\n",
       "      <td>3.459239</td>\n",
       "    </tr>\n",
       "    <tr>\n",
       "      <td>2</td>\n",
       "      <td>3.354300</td>\n",
       "      <td>3.462888</td>\n",
       "    </tr>\n",
       "    <tr>\n",
       "      <td>3</td>\n",
       "      <td>3.354300</td>\n",
       "      <td>3.466245</td>\n",
       "    </tr>\n",
       "  </tbody>\n",
       "</table><p>"
      ],
      "text/plain": [
       "<IPython.core.display.HTML object>"
      ]
     },
     "metadata": {},
     "output_type": "display_data"
    },
    {
     "name": "stderr",
     "output_type": "stream",
     "text": [
      "c:\\Users\\Vatsh Van\\env3.11python\\Lib\\site-packages\\torch\\utils\\data\\dataloader.py:665: UserWarning: 'pin_memory' argument is set as true but no accelerator is found, then device pinned memory won't be used.\n",
      "  warnings.warn(warn_msg)\n",
      "c:\\Users\\Vatsh Van\\env3.11python\\Lib\\site-packages\\torch\\utils\\data\\dataloader.py:665: UserWarning: 'pin_memory' argument is set as true but no accelerator is found, then device pinned memory won't be used.\n",
      "  warnings.warn(warn_msg)\n"
     ]
    },
    {
     "data": {
      "text/plain": [
       "('model/checkpoints/final\\\\tokenizer_config.json',\n",
       " 'model/checkpoints/final\\\\special_tokens_map.json',\n",
       " 'model/checkpoints/final\\\\vocab.json',\n",
       " 'model/checkpoints/final\\\\merges.txt',\n",
       " 'model/checkpoints/final\\\\added_tokens.json')"
      ]
     },
     "execution_count": 33,
     "metadata": {},
     "output_type": "execute_result"
    }
   ],
   "source": [
    "# Trainer setup\n",
    "trainer = Trainer(\n",
    "    model=model,\n",
    "    args=training_args,\n",
    "    train_dataset=small_train_dataset,\n",
    "    eval_dataset=small_eval_dataset,\n",
    "    tokenizer=tokenizer,\n",
    "    data_collator=data_collator\n",
    ")\n",
    "\n",
    "# Training and saving\n",
    "trainer.train()\n",
    "model.save_pretrained(\"model/checkpoints/final\")\n",
    "tokenizer.save_pretrained(\"model/checkpoints/final\")"
   ]
  },
  {
   "cell_type": "markdown",
   "id": "c3de4f03",
   "metadata": {},
   "source": [
    "## Evaluate Perplexity"
   ]
  },
  {
   "cell_type": "code",
   "execution_count": 34,
   "id": "25aed504",
   "metadata": {},
   "outputs": [
    {
     "name": "stderr",
     "output_type": "stream",
     "text": [
      "c:\\Users\\Vatsh Van\\env3.11python\\Lib\\site-packages\\torch\\utils\\data\\dataloader.py:665: UserWarning: 'pin_memory' argument is set as true but no accelerator is found, then device pinned memory won't be used.\n",
      "  warnings.warn(warn_msg)\n"
     ]
    },
    {
     "data": {
      "text/html": [
       "\n",
       "    <div>\n",
       "      \n",
       "      <progress value='50' max='25' style='width:300px; height:20px; vertical-align: middle;'></progress>\n",
       "      [25/25 03:29]\n",
       "    </div>\n",
       "    "
      ],
      "text/plain": [
       "<IPython.core.display.HTML object>"
      ]
     },
     "metadata": {},
     "output_type": "display_data"
    },
    {
     "name": "stdout",
     "output_type": "stream",
     "text": [
      "Perplexity: 32.02\n"
     ]
    }
   ],
   "source": [
    "eval_results = trainer.evaluate()\n",
    "perplexity = math.exp(eval_results['eval_loss'])\n",
    "print(f'Perplexity: {perplexity:.2f}')"
   ]
  },
  {
   "cell_type": "markdown",
   "id": "463e6483",
   "metadata": {},
   "source": [
    "## Evaluate Top-k Accuracy"
   ]
  },
  {
   "cell_type": "code",
   "execution_count": null,
   "id": "c2bab2a3",
   "metadata": {},
   "outputs": [],
   "source": [
    "# Proper dataloader with collate_fn\n",
    "dataloader = torch.utils.data.DataLoader(\n",
    "    tokenized_datasets['validation'],\n",
    "    batch_size=2,\n",
    "    shuffle=False,\n",
    "    collate_fn=data_collator\n",
    ")"
   ]
  },
  {
   "cell_type": "code",
   "execution_count": null,
   "id": "5667957c",
   "metadata": {},
   "outputs": [
    {
     "name": "stdout",
     "output_type": "stream",
     "text": [
      "Top-5 Accuracy: 0.2265\n"
     ]
    }
   ],
   "source": [
    "def compute_top_k_accuracy(logits, labels, k=5):\n",
    "    topk = torch.topk(logits, k, dim=-1).indices\n",
    "    labels = labels.unsqueeze(-1)\n",
    "    match = (topk == labels).any(dim=-1).float()\n",
    "    return match.mean().item()\n",
    "\n",
    "trainer.evaluate()\n",
    "top_k_accs = []\n",
    "\n",
    "with torch.no_grad():\n",
    "    for batch in dataloader:\n",
    "        input_ids = batch['input_ids'].to(model.device)\n",
    "        attention_mask = batch['attention_mask'].to(model.device)\n",
    "\n",
    "        outputs = model(input_ids=input_ids, attention_mask=attention_mask)\n",
    "        logits = outputs.logits[:, :-1, :]\n",
    "        labels = input_ids[:, 1:]\n",
    "\n",
    "        top_k_acc = compute_top_k_accuracy(logits, labels, k=5)\n",
    "        top_k_accs.append(top_k_acc)\n",
    "\n",
    "print(f\"Top-5 Accuracy: {np.mean(top_k_accs):.4f}\")"
   ]
  },
  {
   "cell_type": "code",
   "execution_count": null,
   "id": "591efcd7",
   "metadata": {},
   "outputs": [],
   "source": [
    "os.makedirs(\"outputs\", exist_ok=True)\n",
    "\n",
    "with open(\"outputs/eval_metrics.json\", \"w\") as f:\n",
    "    json.dump({\n",
    "        \"perplexity\": perplexity,\n",
    "        \"top_5_accuracy\": float(top_k_acc)\n",
    "    }, f)"
   ]
  },
  {
   "cell_type": "markdown",
   "id": "4c9732d6",
   "metadata": {},
   "source": [
    "## Gradio Demo: Try Next-Word Prediction"
   ]
  },
  {
   "cell_type": "code",
   "execution_count": null,
   "id": "98283ead",
   "metadata": {},
   "outputs": [
    {
     "name": "stdout",
     "output_type": "stream",
     "text": [
      "* Running on local URL:  http://127.0.0.1:7860\n",
      "* To create a public link, set `share=True` in `launch()`.\n"
     ]
    },
    {
     "data": {
      "text/html": [
       "<div><iframe src=\"http://127.0.0.1:7860/\" width=\"100%\" height=\"500\" allow=\"autoplay; camera; microphone; clipboard-read; clipboard-write;\" frameborder=\"0\" allowfullscreen></iframe></div>"
      ],
      "text/plain": [
       "<IPython.core.display.HTML object>"
      ]
     },
     "metadata": {},
     "output_type": "display_data"
    },
    {
     "data": {
      "text/plain": []
     },
     "execution_count": 38,
     "metadata": {},
     "output_type": "execute_result"
    },
    {
     "name": "stderr",
     "output_type": "stream",
     "text": [
      "Setting `pad_token_id` to `eos_token_id`:50256 for open-end generation.\n",
      "Setting `pad_token_id` to `eos_token_id`:50256 for open-end generation.\n",
      "Setting `pad_token_id` to `eos_token_id`:50256 for open-end generation.\n",
      "Setting `pad_token_id` to `eos_token_id`:50256 for open-end generation.\n"
     ]
    }
   ],
   "source": [
    "def predict_next_word(prompt):\n",
    "    inputs = tokenizer(prompt, return_tensors='pt').to(model.device)\n",
    "    outputs = model.generate(**inputs, max_new_tokens=1, do_sample=True, top_k=50)\n",
    "    return tokenizer.decode(outputs[0], skip_special_tokens=True)\n",
    "\n",
    "demo = gr.Interface(fn=predict_next_word, inputs='text', outputs='text', title='Next Word Predictor')\n",
    "demo.launch()"
   ]
  }
 ],
 "metadata": {
  "kernelspec": {
   "display_name": " Env (Python 3.11)",
   "language": "python",
   "name": "env3.11python"
  },
  "language_info": {
   "codemirror_mode": {
    "name": "ipython",
    "version": 3
   },
   "file_extension": ".py",
   "mimetype": "text/x-python",
   "name": "python",
   "nbconvert_exporter": "python",
   "pygments_lexer": "ipython3",
   "version": "3.11.9"
  }
 },
 "nbformat": 4,
 "nbformat_minor": 5
}
