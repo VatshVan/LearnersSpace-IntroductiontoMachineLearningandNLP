{
 "cells": [
  {
   "cell_type": "markdown",
   "id": "cc543626",
   "metadata": {},
   "source": [
    "# Assignemt 1"
   ]
  },
  {
   "cell_type": "code",
   "execution_count": 435,
   "id": "bcef4831",
   "metadata": {},
   "outputs": [],
   "source": [
    "import pandas as pd\n",
    "import numpy as np\n",
    "import random\n",
    "import seaborn as sns\n",
    "import re\n",
    "import string\n",
    "import matplotlib.pyplot as plt\n",
    "from sklearn.feature_extraction.text import CountVectorizer\n",
    "from sklearn.model_selection import train_test_split\n",
    "from sklearn.naive_bayes import MultinomialNB\n",
    "from sklearn.metrics import accuracy_score, precision_score, recall_score, f1_score, confusion_matrix, ConfusionMatrixDisplay\n",
    "from sklearn.feature_extraction.text import TfidfVectorizer\n",
    "from sklearn.linear_model import LogisticRegression\n",
    "\n",
    "random.seed(42)"
   ]
  },
  {
   "cell_type": "markdown",
   "id": "8f196489",
   "metadata": {},
   "source": [
    "## Problem 1"
   ]
  },
  {
   "cell_type": "code",
   "execution_count": 436,
   "id": "c6187698",
   "metadata": {},
   "outputs": [
    {
     "name": "stdout",
     "output_type": "stream",
     "text": [
      "Generated Array:\n",
      "[[34 33 47 21]\n",
      " [43  9 30 37]\n",
      " [ 7 21 18 28]\n",
      " [ 4 24  8 48]\n",
      " [33 48 33 43]]\n"
     ]
    }
   ],
   "source": [
    "array = np.random.randint(1, 51, size=(5, 4))\n",
    "print(\"Generated Array:\")\n",
    "print(array)"
   ]
  },
  {
   "cell_type": "markdown",
   "id": "c5c89dbd",
   "metadata": {},
   "source": [
    "### 1. Extract the anti-diagonal elements (top-right to bottom-left)"
   ]
  },
  {
   "cell_type": "code",
   "execution_count": 437,
   "id": "bf126fe1",
   "metadata": {},
   "outputs": [
    {
     "name": "stdout",
     "output_type": "stream",
     "text": [
      "\n",
      "Anti-Diagonal Elements:\n",
      "[21, 30, 21, 4]\n"
     ]
    }
   ],
   "source": [
    "anti_diagonal = [array[i, -i - 1] for i in range(min(array.shape))]\n",
    "print(\"\\nAnti-Diagonal Elements:\")\n",
    "print(anti_diagonal)"
   ]
  },
  {
   "cell_type": "markdown",
   "id": "65880737",
   "metadata": {},
   "source": [
    "### 2. Compute and print the maximum value in each row"
   ]
  },
  {
   "cell_type": "code",
   "execution_count": 438,
   "id": "d730030e",
   "metadata": {},
   "outputs": [
    {
     "name": "stdout",
     "output_type": "stream",
     "text": [
      "\n",
      "Maximum Value in Each Row:\n",
      "[47 43 28 48 48]\n"
     ]
    }
   ],
   "source": [
    "max_in_rows = np.max(array, axis=1)\n",
    "print(\"\\nMaximum Value in Each Row:\")\n",
    "print(max_in_rows)"
   ]
  },
  {
   "cell_type": "markdown",
   "id": "f8d3ca91",
   "metadata": {},
   "source": [
    "### 3. Create a new array with elements less than or equal to the mean"
   ]
  },
  {
   "cell_type": "code",
   "execution_count": 439,
   "id": "2f81b96f",
   "metadata": {},
   "outputs": [
    {
     "name": "stdout",
     "output_type": "stream",
     "text": [
      "\n",
      "Array Mean: 28.45\n",
      "Filtered Array (elements <= mean):  [21  9  7 21 18 28  4 24  8]\n"
     ]
    }
   ],
   "source": [
    "mean_value = np.mean(array)\n",
    "filtered_array = array[array <= mean_value]\n",
    "print(f\"\\nArray Mean: {mean_value}\")\n",
    "print(\"Filtered Array (elements <= mean): \", filtered_array)"
   ]
  },
  {
   "cell_type": "markdown",
   "id": "856a9713",
   "metadata": {},
   "source": [
    "### 4. Function to traverse the boundary in clockwise order"
   ]
  },
  {
   "cell_type": "code",
   "execution_count": 440,
   "id": "842e9084",
   "metadata": {},
   "outputs": [],
   "source": [
    "def numpy_boundary_traversal(matrix) -> list:\n",
    "    top = matrix[0, :]\n",
    "    right = matrix[1:-1, -1]\n",
    "    bottom = matrix[-1, ::-1]\n",
    "    left = matrix[-2:0:-1, 0]\n",
    "    boundary_elements = np.concatenate([top, right, bottom, left])\n",
    "    return boundary_elements.tolist()"
   ]
  },
  {
   "cell_type": "code",
   "execution_count": 441,
   "id": "616372fa",
   "metadata": {},
   "outputs": [
    {
     "name": "stdout",
     "output_type": "stream",
     "text": [
      "\n",
      "Boundary Traversal (Clockwise):  [34, 33, 47, 21, 37, 28, 48, 43, 33, 48, 33, 4, 7, 43]\n"
     ]
    }
   ],
   "source": [
    "boundary_elements = numpy_boundary_traversal(array)\n",
    "print(\"\\nBoundary Traversal (Clockwise): \", boundary_elements)"
   ]
  },
  {
   "cell_type": "markdown",
   "id": "ba541857",
   "metadata": {},
   "source": [
    "## Problem 2"
   ]
  },
  {
   "cell_type": "code",
   "execution_count": 442,
   "id": "5dc5a1e8",
   "metadata": {},
   "outputs": [
    {
     "name": "stdout",
     "output_type": "stream",
     "text": [
      "[0.96820256 1.69636923 9.86948693 3.33901789 4.45310799 9.04544532\n",
      " 8.61379057 0.81801026 9.8525967  2.34230356 7.56664124 0.14040155\n",
      " 6.18463853 7.96886496 8.68190111 9.9097908  6.80726812 5.75192917\n",
      " 6.16346449 3.86594413]\n"
     ]
    }
   ],
   "source": [
    "array = np.random.uniform(0, 10, 20)\n",
    "print(array)"
   ]
  },
  {
   "cell_type": "markdown",
   "id": "5f05c56b",
   "metadata": {},
   "source": [
    "### 1. Print the array rounded to 2 decimal places"
   ]
  },
  {
   "cell_type": "code",
   "execution_count": 443,
   "id": "eb682df1",
   "metadata": {},
   "outputs": [
    {
     "name": "stdout",
     "output_type": "stream",
     "text": [
      "Generated Array (rounded to 2 decimal places):\n",
      "[0.97 1.7  9.87 3.34 4.45 9.05 8.61 0.82 9.85 2.34 7.57 0.14 6.18 7.97\n",
      " 8.68 9.91 6.81 5.75 6.16 3.87]\n"
     ]
    }
   ],
   "source": [
    "print(\"Generated Array (rounded to 2 decimal places):\")\n",
    "array = np.round(array, 2)\n",
    "print(array)"
   ]
  },
  {
   "cell_type": "markdown",
   "id": "b3fd9409",
   "metadata": {},
   "source": [
    "### 2. Calculate and print min, max and median"
   ]
  },
  {
   "cell_type": "code",
   "execution_count": 444,
   "id": "97b4825b",
   "metadata": {},
   "outputs": [
    {
     "name": "stdout",
     "output_type": "stream",
     "text": [
      "\n",
      "Minimum: 0.14, Maximum: 9.91, Median: 6.17\n"
     ]
    }
   ],
   "source": [
    "min_val = np.min(array)\n",
    "max_val = np.max(array)\n",
    "median_val = np.median(array)\n",
    "print(f\"\\nMinimum: {min_val}, Maximum: {max_val}, Median: {median_val}\")"
   ]
  },
  {
   "cell_type": "markdown",
   "id": "f7947a9f",
   "metadata": {},
   "source": [
    "### 3. Replace elements less than 5 with their squares"
   ]
  },
  {
   "cell_type": "code",
   "execution_count": 445,
   "id": "b11a511a",
   "metadata": {},
   "outputs": [
    {
     "name": "stdout",
     "output_type": "stream",
     "text": [
      "\n",
      "Array after replacing elements less than 5 with their squares:\n",
      "[ 0.94  2.89  9.87 11.16 19.8   9.05  8.61  0.67  9.85  5.48  7.57  0.02\n",
      "  6.18  7.97  8.68  9.91  6.81  5.75  6.16 14.98]\n"
     ]
    }
   ],
   "source": [
    "modified_array = np.array([x**2 if x < 5 else x for x in array])\n",
    "print(\"\\nArray after replacing elements less than 5 with their squares:\")\n",
    "print(np.round(modified_array, 2))"
   ]
  },
  {
   "cell_type": "markdown",
   "id": "705c46ab",
   "metadata": {},
   "source": [
    "### 4. Function to sort in alternating pattern"
   ]
  },
  {
   "cell_type": "code",
   "execution_count": 446,
   "id": "ee33cfc1",
   "metadata": {},
   "outputs": [],
   "source": [
    "def numpy_alternate_sort(array):\n",
    "    sorted_array = np.sort(array)\n",
    "    result = []\n",
    "    left = 0\n",
    "    right = len(sorted_array) - 1\n",
    "\n",
    "    while left <= right:\n",
    "        if left == right:\n",
    "            result.append(sorted_array[left])\n",
    "        else:\n",
    "            result.append(sorted_array[left])\n",
    "            result.append(sorted_array[right])\n",
    "        left += 1\n",
    "        right -= 1\n",
    "\n",
    "    return np.array(result)"
   ]
  },
  {
   "cell_type": "code",
   "execution_count": 447,
   "id": "2aaa7846",
   "metadata": {},
   "outputs": [
    {
     "name": "stdout",
     "output_type": "stream",
     "text": [
      "\n",
      "Array in Alternating Sort Pattern: \n",
      "[0.14 9.91 0.82 9.87 0.97 9.85 1.7  9.05 2.34 8.68 3.34 8.61 3.87 7.97\n",
      " 4.45 7.57 5.75 6.81 6.16 6.18]\n"
     ]
    }
   ],
   "source": [
    "alternate_sorted_array = numpy_alternate_sort(array)\n",
    "print(\"\\nArray in Alternating Sort Pattern: \")\n",
    "print(np.round(alternate_sorted_array, 2))"
   ]
  },
  {
   "cell_type": "markdown",
   "id": "90987b7e",
   "metadata": {},
   "source": [
    "## Problem 3"
   ]
  },
  {
   "cell_type": "code",
   "execution_count": 448,
   "id": "a2c09973",
   "metadata": {},
   "outputs": [],
   "source": [
    "students = [f'Student{i+1}' for i in range(10)]\n",
    "subjects = ['Math', 'Science', 'History', 'English', 'Art']\n",
    "\n",
    "data = {\n",
    "    'Name': [],\n",
    "    'Subject': [],\n",
    "    'Score': [],\n",
    "    'Grade': []\n",
    "}\n",
    "\n",
    "for student in students:\n",
    "    for subject in subjects:\n",
    "        score = np.random.randint(50, 101)\n",
    "        data['Name'].append(student)\n",
    "        data['Subject'].append(subject)\n",
    "        data['Score'].append(score)\n",
    "        data['Grade'].append('')\n",
    "\n",
    "df = pd.DataFrame(data)"
   ]
  },
  {
   "cell_type": "markdown",
   "id": "12b69a1e",
   "metadata": {},
   "source": [
    "### Assign grades based on score"
   ]
  },
  {
   "cell_type": "code",
   "execution_count": 449,
   "id": "ff25a3a0",
   "metadata": {},
   "outputs": [
    {
     "name": "stdout",
     "output_type": "stream",
     "text": [
      "DataFrame with Grades:\n",
      "         Name  Subject  Score Grade\n",
      "0    Student1     Math     80     B\n",
      "1    Student1  Science     77     C\n",
      "2    Student1  History     99     A\n",
      "3    Student1  English     66     D\n",
      "4    Student1      Art     59     F\n",
      "5    Student2     Math     78     C\n",
      "6    Student2  Science     55     F\n",
      "7    Student2  History     77     C\n",
      "8    Student2  English     59     F\n",
      "9    Student2      Art     82     B\n",
      "10   Student3     Math     99     A\n",
      "11   Student3  Science     73     C\n",
      "12   Student3  History     78     C\n",
      "13   Student3  English     88     B\n",
      "14   Student3      Art     82     B\n",
      "15   Student4     Math     77     C\n",
      "16   Student4  Science     97     A\n",
      "17   Student4  History     65     D\n",
      "18   Student4  English     67     D\n",
      "19   Student4      Art     73     C\n",
      "20   Student5     Math     67     D\n",
      "21   Student5  Science     60     D\n",
      "22   Student5  History     65     D\n",
      "23   Student5  English     67     D\n",
      "24   Student5      Art    100     A\n",
      "25   Student6     Math     76     C\n",
      "26   Student6  Science     89     B\n",
      "27   Student6  History     69     D\n",
      "28   Student6  English     72     C\n",
      "29   Student6      Art     94     A\n",
      "30   Student7     Math     62     D\n",
      "31   Student7  Science     84     B\n",
      "32   Student7  History     91     A\n",
      "33   Student7  English     89     B\n",
      "34   Student7      Art     57     F\n",
      "35   Student8     Math     90     A\n",
      "36   Student8  Science     86     B\n",
      "37   Student8  History     92     A\n",
      "38   Student8  English     73     C\n",
      "39   Student8      Art     71     C\n",
      "40   Student9     Math     63     D\n",
      "41   Student9  Science     99     A\n",
      "42   Student9  History     91     A\n",
      "43   Student9  English     95     A\n",
      "44   Student9      Art     65     D\n",
      "45  Student10     Math     68     D\n",
      "46  Student10  Science     96     A\n",
      "47  Student10  History     52     F\n",
      "48  Student10  English     52     F\n",
      "49  Student10      Art     86     B\n"
     ]
    }
   ],
   "source": [
    "def assign_grade(score):\n",
    "    if score >= 90:\n",
    "        return 'A'\n",
    "    elif score >= 80:\n",
    "        return 'B'\n",
    "    elif score >= 70:\n",
    "        return 'C'\n",
    "    elif score >= 60:\n",
    "        return 'D'\n",
    "    else:\n",
    "        return 'F'\n",
    "\n",
    "df['Grade'] = df['Score'].apply(assign_grade)\n",
    "print(\"DataFrame with Grades:\")\n",
    "print(df)"
   ]
  },
  {
   "cell_type": "markdown",
   "id": "31d8978f",
   "metadata": {},
   "source": [
    "### Print the DataFrame sorted by Score in descending order"
   ]
  },
  {
   "cell_type": "code",
   "execution_count": 450,
   "id": "102461c8",
   "metadata": {},
   "outputs": [
    {
     "name": "stdout",
     "output_type": "stream",
     "text": [
      "\n",
      "DataFrame Sorted by Score (Descending):\n",
      "         Name  Subject  Score Grade\n",
      "24   Student5      Art    100     A\n",
      "10   Student3     Math     99     A\n",
      "2    Student1  History     99     A\n",
      "41   Student9  Science     99     A\n",
      "16   Student4  Science     97     A\n",
      "46  Student10  Science     96     A\n",
      "43   Student9  English     95     A\n",
      "29   Student6      Art     94     A\n",
      "37   Student8  History     92     A\n",
      "32   Student7  History     91     A\n",
      "42   Student9  History     91     A\n",
      "35   Student8     Math     90     A\n",
      "26   Student6  Science     89     B\n",
      "33   Student7  English     89     B\n",
      "13   Student3  English     88     B\n",
      "36   Student8  Science     86     B\n",
      "49  Student10      Art     86     B\n",
      "31   Student7  Science     84     B\n",
      "14   Student3      Art     82     B\n",
      "9    Student2      Art     82     B\n",
      "0    Student1     Math     80     B\n",
      "5    Student2     Math     78     C\n",
      "12   Student3  History     78     C\n",
      "15   Student4     Math     77     C\n",
      "1    Student1  Science     77     C\n",
      "7    Student2  History     77     C\n",
      "25   Student6     Math     76     C\n",
      "38   Student8  English     73     C\n",
      "11   Student3  Science     73     C\n",
      "19   Student4      Art     73     C\n",
      "28   Student6  English     72     C\n",
      "39   Student8      Art     71     C\n",
      "27   Student6  History     69     D\n",
      "45  Student10     Math     68     D\n",
      "23   Student5  English     67     D\n",
      "20   Student5     Math     67     D\n",
      "18   Student4  English     67     D\n",
      "3    Student1  English     66     D\n",
      "22   Student5  History     65     D\n",
      "44   Student9      Art     65     D\n",
      "17   Student4  History     65     D\n",
      "40   Student9     Math     63     D\n",
      "30   Student7     Math     62     D\n",
      "21   Student5  Science     60     D\n",
      "8    Student2  English     59     F\n",
      "4    Student1      Art     59     F\n",
      "34   Student7      Art     57     F\n",
      "6    Student2  Science     55     F\n",
      "47  Student10  History     52     F\n",
      "48  Student10  English     52     F\n"
     ]
    }
   ],
   "source": [
    "sorted_df = df.sort_values(by='Score', ascending=False)\n",
    "print(\"\\nDataFrame Sorted by Score (Descending):\")\n",
    "print(sorted_df)"
   ]
  },
  {
   "cell_type": "markdown",
   "id": "fe59b46d",
   "metadata": {},
   "source": [
    "### Calculate and print the average score for each subject"
   ]
  },
  {
   "cell_type": "code",
   "execution_count": 451,
   "id": "40d9e842",
   "metadata": {},
   "outputs": [
    {
     "name": "stdout",
     "output_type": "stream",
     "text": [
      "\n",
      "Average Score for Each Subject:\n",
      "Subject\n",
      "Art        76.9\n",
      "English    72.8\n",
      "History    77.9\n",
      "Math       76.0\n",
      "Science    81.6\n",
      "Name: Score, dtype: float64\n"
     ]
    }
   ],
   "source": [
    "average_scores = df.groupby('Subject')['Score'].mean()\n",
    "print(\"\\nAverage Score for Each Subject:\")\n",
    "print(average_scores)"
   ]
  },
  {
   "cell_type": "markdown",
   "id": "1458685a",
   "metadata": {},
   "source": [
    "### Function to filter students with grades A or B"
   ]
  },
  {
   "cell_type": "code",
   "execution_count": 452,
   "id": "332e51df",
   "metadata": {},
   "outputs": [],
   "source": [
    "def pandas_filter_pass(dataframe):\n",
    "    return dataframe[dataframe['Grade'].isin(['A', 'B'])]"
   ]
  },
  {
   "cell_type": "code",
   "execution_count": 453,
   "id": "27126a59",
   "metadata": {},
   "outputs": [
    {
     "name": "stdout",
     "output_type": "stream",
     "text": [
      "\n",
      "Filtered DataFrame (Grades A or B):\n",
      "         Name  Subject  Score Grade\n",
      "0    Student1     Math     80     B\n",
      "2    Student1  History     99     A\n",
      "9    Student2      Art     82     B\n",
      "10   Student3     Math     99     A\n",
      "13   Student3  English     88     B\n",
      "14   Student3      Art     82     B\n",
      "16   Student4  Science     97     A\n",
      "24   Student5      Art    100     A\n",
      "26   Student6  Science     89     B\n",
      "29   Student6      Art     94     A\n",
      "31   Student7  Science     84     B\n",
      "32   Student7  History     91     A\n",
      "33   Student7  English     89     B\n",
      "35   Student8     Math     90     A\n",
      "36   Student8  Science     86     B\n",
      "37   Student8  History     92     A\n",
      "41   Student9  Science     99     A\n",
      "42   Student9  History     91     A\n",
      "43   Student9  English     95     A\n",
      "46  Student10  Science     96     A\n",
      "49  Student10      Art     86     B\n"
     ]
    }
   ],
   "source": [
    "filtered_df = pandas_filter_pass(df)\n",
    "print(\"\\nFiltered DataFrame (Grades A or B):\")\n",
    "print(filtered_df)"
   ]
  },
  {
   "cell_type": "markdown",
   "id": "e5f0c9a2",
   "metadata": {},
   "source": [
    "## Problem 4"
   ]
  },
  {
   "cell_type": "markdown",
   "id": "446d1402",
   "metadata": {},
   "source": [
    "### 1. Create synthetic dataset"
   ]
  },
  {
   "cell_type": "markdown",
   "id": "e339a799",
   "metadata": {},
   "source": [
    "#### Word banks"
   ]
  },
  {
   "cell_type": "code",
   "execution_count": 454,
   "id": "ca7afc0e",
   "metadata": {},
   "outputs": [],
   "source": [
    "positive_words = ['amazing', 'incredible', 'fantastic', 'wonderful', 'beautiful']\n",
    "negative_words = ['terrible', 'horrible', 'boring', 'awful', 'disappointing']\n",
    "neutral_words = ['movie', 'story', 'acting', 'performance', 'director', 'scene', 'plot']"
   ]
  },
  {
   "cell_type": "markdown",
   "id": "690559e5",
   "metadata": {},
   "source": [
    "#### Sentence templates"
   ]
  },
  {
   "cell_type": "code",
   "execution_count": 455,
   "id": "c04837bf",
   "metadata": {},
   "outputs": [],
   "source": [
    "templates = [\n",
    "    \"The {noun} was {adj}.\",\n",
    "    \"I thought the {noun} was {adj}.\",\n",
    "    \"The {noun} felt {adj} throughout.\",\n",
    "    \"What a {adj} {noun}!\"\n",
    "]"
   ]
  },
  {
   "cell_type": "code",
   "execution_count": 456,
   "id": "fbe00a72",
   "metadata": {},
   "outputs": [],
   "source": [
    "def generate_reviews(num_reviews, label):\n",
    "    reviews = []\n",
    "    for _ in range(num_reviews):\n",
    "        neutral = random.choice(neutral_words)\n",
    "        if label == 'positive':\n",
    "            main_adj = random.choice(positive_words)\n",
    "            mix_adj = random.choice(negative_words + neutral_words)\n",
    "        else:\n",
    "            main_adj = random.choice(negative_words)\n",
    "            mix_adj = random.choice(positive_words + neutral_words)\n",
    "        \n",
    "        template = random.choice(templates)\n",
    "        review = f\"{template.format(noun=neutral, adj=main_adj)} Also, the {random.choice(neutral_words)} was {mix_adj}.\"\n",
    "        reviews.append(review)\n",
    "    return reviews"
   ]
  },
  {
   "cell_type": "markdown",
   "id": "33868111",
   "metadata": {},
   "source": [
    "#### Generate reviews"
   ]
  },
  {
   "cell_type": "code",
   "execution_count": 457,
   "id": "62742055",
   "metadata": {},
   "outputs": [],
   "source": [
    "positive_reviews = generate_reviews(50, 'positive')\n",
    "negative_reviews = generate_reviews(50, 'negative')"
   ]
  },
  {
   "cell_type": "markdown",
   "id": "de58e0c2",
   "metadata": {},
   "source": [
    "#### Create dataset"
   ]
  },
  {
   "cell_type": "code",
   "execution_count": 458,
   "id": "af63b5cf",
   "metadata": {},
   "outputs": [],
   "source": [
    "reviews = positive_reviews + negative_reviews\n",
    "sentiments = ['positive'] * 50 + ['negative'] * 50\n",
    "df = pd.DataFrame({'Review': reviews, 'Sentiment': sentiments})"
   ]
  },
  {
   "cell_type": "markdown",
   "id": "8b21741f",
   "metadata": {},
   "source": [
    "#### Shuffle to randomize order"
   ]
  },
  {
   "cell_type": "code",
   "execution_count": 459,
   "id": "cbcbf44d",
   "metadata": {},
   "outputs": [
    {
     "name": "stdout",
     "output_type": "stream",
     "text": [
      "                                              Review Sentiment\n",
      "0  The scene was awful. Also, the movie was perfo...  negative\n",
      "1  I thought the story was disappointing. Also, t...  negative\n",
      "2  The story felt boring throughout. Also, the pl...  negative\n",
      "3  The movie was amazing. Also, the movie was awful.  positive\n",
      "4  I thought the director was beautiful. Also, th...  positive\n"
     ]
    }
   ],
   "source": [
    "df = df.sample(frac=1, random_state=42).reset_index(drop=True)\n",
    "\n",
    "print(df.head())"
   ]
  },
  {
   "cell_type": "markdown",
   "id": "ce47c564",
   "metadata": {},
   "source": [
    "### 2. Tokenization using CountVectorizer"
   ]
  },
  {
   "cell_type": "code",
   "execution_count": 460,
   "id": "6c9dd905",
   "metadata": {},
   "outputs": [],
   "source": [
    "vectorizer = TfidfVectorizer(max_features=500, stop_words='english', ngram_range=(1, 2))\n",
    "X = vectorizer.fit_transform(df['Review'])"
   ]
  },
  {
   "cell_type": "markdown",
   "id": "870d8dab",
   "metadata": {},
   "source": [
    "### 3. Train-test split"
   ]
  },
  {
   "cell_type": "code",
   "execution_count": 461,
   "id": "95ff74eb",
   "metadata": {},
   "outputs": [],
   "source": [
    "X_train, X_test, y_train, y_test = train_test_split(X, df['Sentiment'], test_size=0.2, random_state=42)"
   ]
  },
  {
   "cell_type": "markdown",
   "id": "4ecddc0d",
   "metadata": {},
   "source": [
    "### 4. Model training"
   ]
  },
  {
   "cell_type": "code",
   "execution_count": 462,
   "id": "0b8fb553",
   "metadata": {},
   "outputs": [
    {
     "data": {
      "text/html": [
       "<style>#sk-container-id-20 {\n",
       "  /* Definition of color scheme common for light and dark mode */\n",
       "  --sklearn-color-text: black;\n",
       "  --sklearn-color-line: gray;\n",
       "  /* Definition of color scheme for unfitted estimators */\n",
       "  --sklearn-color-unfitted-level-0: #fff5e6;\n",
       "  --sklearn-color-unfitted-level-1: #f6e4d2;\n",
       "  --sklearn-color-unfitted-level-2: #ffe0b3;\n",
       "  --sklearn-color-unfitted-level-3: chocolate;\n",
       "  /* Definition of color scheme for fitted estimators */\n",
       "  --sklearn-color-fitted-level-0: #f0f8ff;\n",
       "  --sklearn-color-fitted-level-1: #d4ebff;\n",
       "  --sklearn-color-fitted-level-2: #b3dbfd;\n",
       "  --sklearn-color-fitted-level-3: cornflowerblue;\n",
       "\n",
       "  /* Specific color for light theme */\n",
       "  --sklearn-color-text-on-default-background: var(--sg-text-color, var(--theme-code-foreground, var(--jp-content-font-color1, black)));\n",
       "  --sklearn-color-background: var(--sg-background-color, var(--theme-background, var(--jp-layout-color0, white)));\n",
       "  --sklearn-color-border-box: var(--sg-text-color, var(--theme-code-foreground, var(--jp-content-font-color1, black)));\n",
       "  --sklearn-color-icon: #696969;\n",
       "\n",
       "  @media (prefers-color-scheme: dark) {\n",
       "    /* Redefinition of color scheme for dark theme */\n",
       "    --sklearn-color-text-on-default-background: var(--sg-text-color, var(--theme-code-foreground, var(--jp-content-font-color1, white)));\n",
       "    --sklearn-color-background: var(--sg-background-color, var(--theme-background, var(--jp-layout-color0, #111)));\n",
       "    --sklearn-color-border-box: var(--sg-text-color, var(--theme-code-foreground, var(--jp-content-font-color1, white)));\n",
       "    --sklearn-color-icon: #878787;\n",
       "  }\n",
       "}\n",
       "\n",
       "#sk-container-id-20 {\n",
       "  color: var(--sklearn-color-text);\n",
       "}\n",
       "\n",
       "#sk-container-id-20 pre {\n",
       "  padding: 0;\n",
       "}\n",
       "\n",
       "#sk-container-id-20 input.sk-hidden--visually {\n",
       "  border: 0;\n",
       "  clip: rect(1px 1px 1px 1px);\n",
       "  clip: rect(1px, 1px, 1px, 1px);\n",
       "  height: 1px;\n",
       "  margin: -1px;\n",
       "  overflow: hidden;\n",
       "  padding: 0;\n",
       "  position: absolute;\n",
       "  width: 1px;\n",
       "}\n",
       "\n",
       "#sk-container-id-20 div.sk-dashed-wrapped {\n",
       "  border: 1px dashed var(--sklearn-color-line);\n",
       "  margin: 0 0.4em 0.5em 0.4em;\n",
       "  box-sizing: border-box;\n",
       "  padding-bottom: 0.4em;\n",
       "  background-color: var(--sklearn-color-background);\n",
       "}\n",
       "\n",
       "#sk-container-id-20 div.sk-container {\n",
       "  /* jupyter's `normalize.less` sets `[hidden] { display: none; }`\n",
       "     but bootstrap.min.css set `[hidden] { display: none !important; }`\n",
       "     so we also need the `!important` here to be able to override the\n",
       "     default hidden behavior on the sphinx rendered scikit-learn.org.\n",
       "     See: https://github.com/scikit-learn/scikit-learn/issues/21755 */\n",
       "  display: inline-block !important;\n",
       "  position: relative;\n",
       "}\n",
       "\n",
       "#sk-container-id-20 div.sk-text-repr-fallback {\n",
       "  display: none;\n",
       "}\n",
       "\n",
       "div.sk-parallel-item,\n",
       "div.sk-serial,\n",
       "div.sk-item {\n",
       "  /* draw centered vertical line to link estimators */\n",
       "  background-image: linear-gradient(var(--sklearn-color-text-on-default-background), var(--sklearn-color-text-on-default-background));\n",
       "  background-size: 2px 100%;\n",
       "  background-repeat: no-repeat;\n",
       "  background-position: center center;\n",
       "}\n",
       "\n",
       "/* Parallel-specific style estimator block */\n",
       "\n",
       "#sk-container-id-20 div.sk-parallel-item::after {\n",
       "  content: \"\";\n",
       "  width: 100%;\n",
       "  border-bottom: 2px solid var(--sklearn-color-text-on-default-background);\n",
       "  flex-grow: 1;\n",
       "}\n",
       "\n",
       "#sk-container-id-20 div.sk-parallel {\n",
       "  display: flex;\n",
       "  align-items: stretch;\n",
       "  justify-content: center;\n",
       "  background-color: var(--sklearn-color-background);\n",
       "  position: relative;\n",
       "}\n",
       "\n",
       "#sk-container-id-20 div.sk-parallel-item {\n",
       "  display: flex;\n",
       "  flex-direction: column;\n",
       "}\n",
       "\n",
       "#sk-container-id-20 div.sk-parallel-item:first-child::after {\n",
       "  align-self: flex-end;\n",
       "  width: 50%;\n",
       "}\n",
       "\n",
       "#sk-container-id-20 div.sk-parallel-item:last-child::after {\n",
       "  align-self: flex-start;\n",
       "  width: 50%;\n",
       "}\n",
       "\n",
       "#sk-container-id-20 div.sk-parallel-item:only-child::after {\n",
       "  width: 0;\n",
       "}\n",
       "\n",
       "/* Serial-specific style estimator block */\n",
       "\n",
       "#sk-container-id-20 div.sk-serial {\n",
       "  display: flex;\n",
       "  flex-direction: column;\n",
       "  align-items: center;\n",
       "  background-color: var(--sklearn-color-background);\n",
       "  padding-right: 1em;\n",
       "  padding-left: 1em;\n",
       "}\n",
       "\n",
       "\n",
       "/* Toggleable style: style used for estimator/Pipeline/ColumnTransformer box that is\n",
       "clickable and can be expanded/collapsed.\n",
       "- Pipeline and ColumnTransformer use this feature and define the default style\n",
       "- Estimators will overwrite some part of the style using the `sk-estimator` class\n",
       "*/\n",
       "\n",
       "/* Pipeline and ColumnTransformer style (default) */\n",
       "\n",
       "#sk-container-id-20 div.sk-toggleable {\n",
       "  /* Default theme specific background. It is overwritten whether we have a\n",
       "  specific estimator or a Pipeline/ColumnTransformer */\n",
       "  background-color: var(--sklearn-color-background);\n",
       "}\n",
       "\n",
       "/* Toggleable label */\n",
       "#sk-container-id-20 label.sk-toggleable__label {\n",
       "  cursor: pointer;\n",
       "  display: block;\n",
       "  width: 100%;\n",
       "  margin-bottom: 0;\n",
       "  padding: 0.5em;\n",
       "  box-sizing: border-box;\n",
       "  text-align: center;\n",
       "}\n",
       "\n",
       "#sk-container-id-20 label.sk-toggleable__label-arrow:before {\n",
       "  /* Arrow on the left of the label */\n",
       "  content: \"▸\";\n",
       "  float: left;\n",
       "  margin-right: 0.25em;\n",
       "  color: var(--sklearn-color-icon);\n",
       "}\n",
       "\n",
       "#sk-container-id-20 label.sk-toggleable__label-arrow:hover:before {\n",
       "  color: var(--sklearn-color-text);\n",
       "}\n",
       "\n",
       "/* Toggleable content - dropdown */\n",
       "\n",
       "#sk-container-id-20 div.sk-toggleable__content {\n",
       "  max-height: 0;\n",
       "  max-width: 0;\n",
       "  overflow: hidden;\n",
       "  text-align: left;\n",
       "  /* unfitted */\n",
       "  background-color: var(--sklearn-color-unfitted-level-0);\n",
       "}\n",
       "\n",
       "#sk-container-id-20 div.sk-toggleable__content.fitted {\n",
       "  /* fitted */\n",
       "  background-color: var(--sklearn-color-fitted-level-0);\n",
       "}\n",
       "\n",
       "#sk-container-id-20 div.sk-toggleable__content pre {\n",
       "  margin: 0.2em;\n",
       "  border-radius: 0.25em;\n",
       "  color: var(--sklearn-color-text);\n",
       "  /* unfitted */\n",
       "  background-color: var(--sklearn-color-unfitted-level-0);\n",
       "}\n",
       "\n",
       "#sk-container-id-20 div.sk-toggleable__content.fitted pre {\n",
       "  /* unfitted */\n",
       "  background-color: var(--sklearn-color-fitted-level-0);\n",
       "}\n",
       "\n",
       "#sk-container-id-20 input.sk-toggleable__control:checked~div.sk-toggleable__content {\n",
       "  /* Expand drop-down */\n",
       "  max-height: 200px;\n",
       "  max-width: 100%;\n",
       "  overflow: auto;\n",
       "}\n",
       "\n",
       "#sk-container-id-20 input.sk-toggleable__control:checked~label.sk-toggleable__label-arrow:before {\n",
       "  content: \"▾\";\n",
       "}\n",
       "\n",
       "/* Pipeline/ColumnTransformer-specific style */\n",
       "\n",
       "#sk-container-id-20 div.sk-label input.sk-toggleable__control:checked~label.sk-toggleable__label {\n",
       "  color: var(--sklearn-color-text);\n",
       "  background-color: var(--sklearn-color-unfitted-level-2);\n",
       "}\n",
       "\n",
       "#sk-container-id-20 div.sk-label.fitted input.sk-toggleable__control:checked~label.sk-toggleable__label {\n",
       "  background-color: var(--sklearn-color-fitted-level-2);\n",
       "}\n",
       "\n",
       "/* Estimator-specific style */\n",
       "\n",
       "/* Colorize estimator box */\n",
       "#sk-container-id-20 div.sk-estimator input.sk-toggleable__control:checked~label.sk-toggleable__label {\n",
       "  /* unfitted */\n",
       "  background-color: var(--sklearn-color-unfitted-level-2);\n",
       "}\n",
       "\n",
       "#sk-container-id-20 div.sk-estimator.fitted input.sk-toggleable__control:checked~label.sk-toggleable__label {\n",
       "  /* fitted */\n",
       "  background-color: var(--sklearn-color-fitted-level-2);\n",
       "}\n",
       "\n",
       "#sk-container-id-20 div.sk-label label.sk-toggleable__label,\n",
       "#sk-container-id-20 div.sk-label label {\n",
       "  /* The background is the default theme color */\n",
       "  color: var(--sklearn-color-text-on-default-background);\n",
       "}\n",
       "\n",
       "/* On hover, darken the color of the background */\n",
       "#sk-container-id-20 div.sk-label:hover label.sk-toggleable__label {\n",
       "  color: var(--sklearn-color-text);\n",
       "  background-color: var(--sklearn-color-unfitted-level-2);\n",
       "}\n",
       "\n",
       "/* Label box, darken color on hover, fitted */\n",
       "#sk-container-id-20 div.sk-label.fitted:hover label.sk-toggleable__label.fitted {\n",
       "  color: var(--sklearn-color-text);\n",
       "  background-color: var(--sklearn-color-fitted-level-2);\n",
       "}\n",
       "\n",
       "/* Estimator label */\n",
       "\n",
       "#sk-container-id-20 div.sk-label label {\n",
       "  font-family: monospace;\n",
       "  font-weight: bold;\n",
       "  display: inline-block;\n",
       "  line-height: 1.2em;\n",
       "}\n",
       "\n",
       "#sk-container-id-20 div.sk-label-container {\n",
       "  text-align: center;\n",
       "}\n",
       "\n",
       "/* Estimator-specific */\n",
       "#sk-container-id-20 div.sk-estimator {\n",
       "  font-family: monospace;\n",
       "  border: 1px dotted var(--sklearn-color-border-box);\n",
       "  border-radius: 0.25em;\n",
       "  box-sizing: border-box;\n",
       "  margin-bottom: 0.5em;\n",
       "  /* unfitted */\n",
       "  background-color: var(--sklearn-color-unfitted-level-0);\n",
       "}\n",
       "\n",
       "#sk-container-id-20 div.sk-estimator.fitted {\n",
       "  /* fitted */\n",
       "  background-color: var(--sklearn-color-fitted-level-0);\n",
       "}\n",
       "\n",
       "/* on hover */\n",
       "#sk-container-id-20 div.sk-estimator:hover {\n",
       "  /* unfitted */\n",
       "  background-color: var(--sklearn-color-unfitted-level-2);\n",
       "}\n",
       "\n",
       "#sk-container-id-20 div.sk-estimator.fitted:hover {\n",
       "  /* fitted */\n",
       "  background-color: var(--sklearn-color-fitted-level-2);\n",
       "}\n",
       "\n",
       "/* Specification for estimator info (e.g. \"i\" and \"?\") */\n",
       "\n",
       "/* Common style for \"i\" and \"?\" */\n",
       "\n",
       ".sk-estimator-doc-link,\n",
       "a:link.sk-estimator-doc-link,\n",
       "a:visited.sk-estimator-doc-link {\n",
       "  float: right;\n",
       "  font-size: smaller;\n",
       "  line-height: 1em;\n",
       "  font-family: monospace;\n",
       "  background-color: var(--sklearn-color-background);\n",
       "  border-radius: 1em;\n",
       "  height: 1em;\n",
       "  width: 1em;\n",
       "  text-decoration: none !important;\n",
       "  margin-left: 1ex;\n",
       "  /* unfitted */\n",
       "  border: var(--sklearn-color-unfitted-level-1) 1pt solid;\n",
       "  color: var(--sklearn-color-unfitted-level-1);\n",
       "}\n",
       "\n",
       ".sk-estimator-doc-link.fitted,\n",
       "a:link.sk-estimator-doc-link.fitted,\n",
       "a:visited.sk-estimator-doc-link.fitted {\n",
       "  /* fitted */\n",
       "  border: var(--sklearn-color-fitted-level-1) 1pt solid;\n",
       "  color: var(--sklearn-color-fitted-level-1);\n",
       "}\n",
       "\n",
       "/* On hover */\n",
       "div.sk-estimator:hover .sk-estimator-doc-link:hover,\n",
       ".sk-estimator-doc-link:hover,\n",
       "div.sk-label-container:hover .sk-estimator-doc-link:hover,\n",
       ".sk-estimator-doc-link:hover {\n",
       "  /* unfitted */\n",
       "  background-color: var(--sklearn-color-unfitted-level-3);\n",
       "  color: var(--sklearn-color-background);\n",
       "  text-decoration: none;\n",
       "}\n",
       "\n",
       "div.sk-estimator.fitted:hover .sk-estimator-doc-link.fitted:hover,\n",
       ".sk-estimator-doc-link.fitted:hover,\n",
       "div.sk-label-container:hover .sk-estimator-doc-link.fitted:hover,\n",
       ".sk-estimator-doc-link.fitted:hover {\n",
       "  /* fitted */\n",
       "  background-color: var(--sklearn-color-fitted-level-3);\n",
       "  color: var(--sklearn-color-background);\n",
       "  text-decoration: none;\n",
       "}\n",
       "\n",
       "/* Span, style for the box shown on hovering the info icon */\n",
       ".sk-estimator-doc-link span {\n",
       "  display: none;\n",
       "  z-index: 9999;\n",
       "  position: relative;\n",
       "  font-weight: normal;\n",
       "  right: .2ex;\n",
       "  padding: .5ex;\n",
       "  margin: .5ex;\n",
       "  width: min-content;\n",
       "  min-width: 20ex;\n",
       "  max-width: 50ex;\n",
       "  color: var(--sklearn-color-text);\n",
       "  box-shadow: 2pt 2pt 4pt #999;\n",
       "  /* unfitted */\n",
       "  background: var(--sklearn-color-unfitted-level-0);\n",
       "  border: .5pt solid var(--sklearn-color-unfitted-level-3);\n",
       "}\n",
       "\n",
       ".sk-estimator-doc-link.fitted span {\n",
       "  /* fitted */\n",
       "  background: var(--sklearn-color-fitted-level-0);\n",
       "  border: var(--sklearn-color-fitted-level-3);\n",
       "}\n",
       "\n",
       ".sk-estimator-doc-link:hover span {\n",
       "  display: block;\n",
       "}\n",
       "\n",
       "/* \"?\"-specific style due to the `<a>` HTML tag */\n",
       "\n",
       "#sk-container-id-20 a.estimator_doc_link {\n",
       "  float: right;\n",
       "  font-size: 1rem;\n",
       "  line-height: 1em;\n",
       "  font-family: monospace;\n",
       "  background-color: var(--sklearn-color-background);\n",
       "  border-radius: 1rem;\n",
       "  height: 1rem;\n",
       "  width: 1rem;\n",
       "  text-decoration: none;\n",
       "  /* unfitted */\n",
       "  color: var(--sklearn-color-unfitted-level-1);\n",
       "  border: var(--sklearn-color-unfitted-level-1) 1pt solid;\n",
       "}\n",
       "\n",
       "#sk-container-id-20 a.estimator_doc_link.fitted {\n",
       "  /* fitted */\n",
       "  border: var(--sklearn-color-fitted-level-1) 1pt solid;\n",
       "  color: var(--sklearn-color-fitted-level-1);\n",
       "}\n",
       "\n",
       "/* On hover */\n",
       "#sk-container-id-20 a.estimator_doc_link:hover {\n",
       "  /* unfitted */\n",
       "  background-color: var(--sklearn-color-unfitted-level-3);\n",
       "  color: var(--sklearn-color-background);\n",
       "  text-decoration: none;\n",
       "}\n",
       "\n",
       "#sk-container-id-20 a.estimator_doc_link.fitted:hover {\n",
       "  /* fitted */\n",
       "  background-color: var(--sklearn-color-fitted-level-3);\n",
       "}\n",
       "</style><div id=\"sk-container-id-20\" class=\"sk-top-container\"><div class=\"sk-text-repr-fallback\"><pre>MultinomialNB()</pre><b>In a Jupyter environment, please rerun this cell to show the HTML representation or trust the notebook. <br />On GitHub, the HTML representation is unable to render, please try loading this page with nbviewer.org.</b></div><div class=\"sk-container\" hidden><div class=\"sk-item\"><div class=\"sk-estimator fitted sk-toggleable\"><input class=\"sk-toggleable__control sk-hidden--visually\" id=\"sk-estimator-id-20\" type=\"checkbox\" checked><label for=\"sk-estimator-id-20\" class=\"sk-toggleable__label fitted sk-toggleable__label-arrow fitted\">&nbsp;&nbsp;MultinomialNB<a class=\"sk-estimator-doc-link fitted\" rel=\"noreferrer\" target=\"_blank\" href=\"https://scikit-learn.org/1.5/modules/generated/sklearn.naive_bayes.MultinomialNB.html\">?<span>Documentation for MultinomialNB</span></a><span class=\"sk-estimator-doc-link fitted\">i<span>Fitted</span></span></label><div class=\"sk-toggleable__content fitted\"><pre>MultinomialNB()</pre></div> </div></div></div></div>"
      ],
      "text/plain": [
       "MultinomialNB()"
      ]
     },
     "execution_count": 462,
     "metadata": {},
     "output_type": "execute_result"
    }
   ],
   "source": [
    "model = MultinomialNB()\n",
    "model.fit(X_train, y_train)"
   ]
  },
  {
   "cell_type": "markdown",
   "id": "6f9e4743",
   "metadata": {},
   "source": [
    "### 5. Accuracy on test set"
   ]
  },
  {
   "cell_type": "code",
   "execution_count": 463,
   "id": "27993cdb",
   "metadata": {},
   "outputs": [
    {
     "name": "stdout",
     "output_type": "stream",
     "text": [
      "Accuracy on the test set: 75.00%\n"
     ]
    }
   ],
   "source": [
    "y_pred = model.predict(X_test)\n",
    "accuracy = accuracy_score(y_test, y_pred)\n",
    "print(f'Accuracy on the test set: {accuracy * 100:.2f}%')"
   ]
  },
  {
   "cell_type": "markdown",
   "id": "94eeff95",
   "metadata": {},
   "source": [
    "### 6. Function to predict sentiment"
   ]
  },
  {
   "cell_type": "code",
   "execution_count": 464,
   "id": "5a1378f2",
   "metadata": {},
   "outputs": [],
   "source": [
    "def predict_review_sentiment(model, vectorizer, review):\n",
    "    review_vector = vectorizer.transform([review])\n",
    "    prediction = model.predict(review_vector)\n",
    "    return prediction[0]"
   ]
  },
  {
   "cell_type": "markdown",
   "id": "08527ef7",
   "metadata": {},
   "source": [
    "### Example predictions"
   ]
  },
  {
   "cell_type": "code",
   "execution_count": 465,
   "id": "2e782088",
   "metadata": {},
   "outputs": [
    {
     "name": "stdout",
     "output_type": "stream",
     "text": [
      "Sentiment for review: \"The movie was fantastic and enjoyable but the ending can be made better\" -> positive\n",
      "Sentiment for review: \"The storyline was boring and bad, but the acting was good\" -> negative\n"
     ]
    }
   ],
   "source": [
    "sample_review = \"The movie was fantastic and enjoyable but the ending can be made better\"\n",
    "print(f'Sentiment for review: \"{sample_review}\" -> {predict_review_sentiment(model, vectorizer, sample_review)}')\n",
    "\n",
    "sample_review = \"The storyline was boring and bad, but the acting was good\"\n",
    "print(f'Sentiment for review: \"{sample_review}\" -> {predict_review_sentiment(model, vectorizer, sample_review)}')"
   ]
  },
  {
   "cell_type": "markdown",
   "id": "cd8b6ee1",
   "metadata": {},
   "source": [
    "## Problem 5"
   ]
  },
  {
   "cell_type": "markdown",
   "id": "7ab3fe99",
   "metadata": {},
   "source": [
    "### 1. Create synthetic dataset"
   ]
  },
  {
   "cell_type": "markdown",
   "id": "3d18ca1e",
   "metadata": {},
   "source": [
    "#### Define templates and word banks"
   ]
  },
  {
   "cell_type": "code",
   "execution_count": 466,
   "id": "3abd5298",
   "metadata": {},
   "outputs": [],
   "source": [
    "positive_templates = [\n",
    "    \"The {product} is {adj} and {adj2}.\",\n",
    "    \"I am {feeling} with this {product}.\",\n",
    "    \"This {product} works {adv}.\",\n",
    "    \"Honestly, the {product} is {adj}, I love it.\",\n",
    "    \"The {product} exceeded my expectations, it's {adj} and {adj2}.\",\n",
    "    \"Highly recommend this {product}, it works {adv} and I'm {feeling}.\",\n",
    "    \"Initially skeptical, but this {product} is {adj} and makes me feel {feeling}.\"\n",
    "]\n",
    "\n",
    "negative_templates = [\n",
    "    \"The {product} is {adj} and {adj2}.\",\n",
    "    \"I am {feeling} with this {product}.\",\n",
    "    \"This {product} works {adv}.\",\n",
    "    \"Unfortunately, the {product} is {adj} and doesn't meet my expectations.\",\n",
    "    \"The {product} is {adj}, quite {adj2} actually.\",\n",
    "    \"I had high hopes, but this {product} works {adv}.\",\n",
    "    \"Initially excited, but this {product} works {adv} and I'm {feeling} now.\"\n",
    "]\n",
    "\n",
    "products = [\"phone\", \"laptop\", \"product\", \"item\", \"device\", \"gadget\"]\n",
    "positive_adjectives = [\"excellent\", \"amazing\", \"fantastic\", \"great\", \"wonderful\", \"superb\", \"impressive\"]\n",
    "negative_adjectives = [\"terrible\", \"bad\", \"poor\", \"disappointing\", \"horrible\", \"awful\", \"unreliable\"]\n",
    "positive_feelings = [\"happy\", \"satisfied\", \"pleased\", \"delighted\", \"grateful\"]\n",
    "negative_feelings = [\"angry\", \"upset\", \"disappointed\", \"frustrated\", \"annoyed\"]\n",
    "positive_adverbs = [\"perfectly\", \"smoothly\", \"flawlessly\", \"beautifully\"]\n",
    "negative_adverbs = [\"badly\", \"poorly\", \"terribly\", \"inconsistently\"]\n",
    "fillers = [\"honestly\", \"actually\", \"in my opinion\", \"initially\", \"to be fair\"]"
   ]
  },
  {
   "cell_type": "markdown",
   "id": "25f9e8f5",
   "metadata": {},
   "source": [
    "#### Function to add random filler noise"
   ]
  },
  {
   "cell_type": "code",
   "execution_count": 467,
   "id": "062f357b",
   "metadata": {},
   "outputs": [],
   "source": [
    "def add_noise(sentence):\n",
    "    if random.random() < 0.3:\n",
    "        filler = random.choice(fillers)\n",
    "        return f\"{filler}, {sentence}\"\n",
    "    return sentence"
   ]
  },
  {
   "cell_type": "markdown",
   "id": "f7de4781",
   "metadata": {},
   "source": [
    "#### Synthetic review generator"
   ]
  },
  {
   "cell_type": "code",
   "execution_count": 468,
   "id": "1189e226",
   "metadata": {},
   "outputs": [],
   "source": [
    "def generate_review(label):\n",
    "    if label == 'good':\n",
    "        template = random.choice(positive_templates)\n",
    "        sentence = template.format(\n",
    "            product=random.choice(products),\n",
    "            adj=random.choice(positive_adjectives),\n",
    "            adj2=random.choice(positive_adjectives),\n",
    "            feeling=random.choice(positive_feelings),\n",
    "            adv=random.choice(positive_adverbs)\n",
    "        )\n",
    "    else:\n",
    "        template = random.choice(negative_templates)\n",
    "        sentence = template.format(\n",
    "            product=random.choice(products),\n",
    "            adj=random.choice(negative_adjectives),\n",
    "            adj2=random.choice(negative_adjectives),\n",
    "            feeling=random.choice(negative_feelings),\n",
    "            adv=random.choice(negative_adverbs)\n",
    "        )\n",
    "    return add_noise(sentence)"
   ]
  },
  {
   "cell_type": "markdown",
   "id": "2090eff2",
   "metadata": {},
   "source": [
    "#### Generate dataset"
   ]
  },
  {
   "cell_type": "code",
   "execution_count": null,
   "id": "f1463300",
   "metadata": {},
   "outputs": [],
   "source": [
    "reviews = []\n",
    "labels = []\n",
    "for _ in range(100):\n",
    "    label = 'good' if _ < 50 else 'bad'\n",
    "    reviews.append(generate_review(label))\n",
    "    labels.append(label)\n",
    "\n",
    "df = pd.DataFrame({'Review': reviews, 'Label': labels}).sample(frac=1, random_state=42).reset_index(drop=True)"
   ]
  },
  {
   "cell_type": "markdown",
   "id": "fc696c2a",
   "metadata": {},
   "source": [
    "### Vectorization"
   ]
  },
  {
   "cell_type": "code",
   "execution_count": 470,
   "id": "3ff8b058",
   "metadata": {},
   "outputs": [],
   "source": [
    "vectorizer = TfidfVectorizer(max_features=300, stop_words='english', lowercase=True, ngram_range=(1, 2))\n",
    "X = vectorizer.fit_transform(df['Review'])\n",
    "y = df['Label']"
   ]
  },
  {
   "cell_type": "markdown",
   "id": "0a8e1a35",
   "metadata": {},
   "source": [
    "### Train-Test Split"
   ]
  },
  {
   "cell_type": "code",
   "execution_count": 471,
   "id": "6717a000",
   "metadata": {},
   "outputs": [],
   "source": [
    "X_train, X_test, y_train, y_test = train_test_split(X, y, test_size=0.25, stratify=y, random_state=42)"
   ]
  },
  {
   "cell_type": "markdown",
   "id": "6386082d",
   "metadata": {},
   "source": [
    "### Logistic Regression Model"
   ]
  },
  {
   "cell_type": "code",
   "execution_count": 472,
   "id": "af47de17",
   "metadata": {},
   "outputs": [
    {
     "data": {
      "text/html": [
       "<style>#sk-container-id-21 {\n",
       "  /* Definition of color scheme common for light and dark mode */\n",
       "  --sklearn-color-text: black;\n",
       "  --sklearn-color-line: gray;\n",
       "  /* Definition of color scheme for unfitted estimators */\n",
       "  --sklearn-color-unfitted-level-0: #fff5e6;\n",
       "  --sklearn-color-unfitted-level-1: #f6e4d2;\n",
       "  --sklearn-color-unfitted-level-2: #ffe0b3;\n",
       "  --sklearn-color-unfitted-level-3: chocolate;\n",
       "  /* Definition of color scheme for fitted estimators */\n",
       "  --sklearn-color-fitted-level-0: #f0f8ff;\n",
       "  --sklearn-color-fitted-level-1: #d4ebff;\n",
       "  --sklearn-color-fitted-level-2: #b3dbfd;\n",
       "  --sklearn-color-fitted-level-3: cornflowerblue;\n",
       "\n",
       "  /* Specific color for light theme */\n",
       "  --sklearn-color-text-on-default-background: var(--sg-text-color, var(--theme-code-foreground, var(--jp-content-font-color1, black)));\n",
       "  --sklearn-color-background: var(--sg-background-color, var(--theme-background, var(--jp-layout-color0, white)));\n",
       "  --sklearn-color-border-box: var(--sg-text-color, var(--theme-code-foreground, var(--jp-content-font-color1, black)));\n",
       "  --sklearn-color-icon: #696969;\n",
       "\n",
       "  @media (prefers-color-scheme: dark) {\n",
       "    /* Redefinition of color scheme for dark theme */\n",
       "    --sklearn-color-text-on-default-background: var(--sg-text-color, var(--theme-code-foreground, var(--jp-content-font-color1, white)));\n",
       "    --sklearn-color-background: var(--sg-background-color, var(--theme-background, var(--jp-layout-color0, #111)));\n",
       "    --sklearn-color-border-box: var(--sg-text-color, var(--theme-code-foreground, var(--jp-content-font-color1, white)));\n",
       "    --sklearn-color-icon: #878787;\n",
       "  }\n",
       "}\n",
       "\n",
       "#sk-container-id-21 {\n",
       "  color: var(--sklearn-color-text);\n",
       "}\n",
       "\n",
       "#sk-container-id-21 pre {\n",
       "  padding: 0;\n",
       "}\n",
       "\n",
       "#sk-container-id-21 input.sk-hidden--visually {\n",
       "  border: 0;\n",
       "  clip: rect(1px 1px 1px 1px);\n",
       "  clip: rect(1px, 1px, 1px, 1px);\n",
       "  height: 1px;\n",
       "  margin: -1px;\n",
       "  overflow: hidden;\n",
       "  padding: 0;\n",
       "  position: absolute;\n",
       "  width: 1px;\n",
       "}\n",
       "\n",
       "#sk-container-id-21 div.sk-dashed-wrapped {\n",
       "  border: 1px dashed var(--sklearn-color-line);\n",
       "  margin: 0 0.4em 0.5em 0.4em;\n",
       "  box-sizing: border-box;\n",
       "  padding-bottom: 0.4em;\n",
       "  background-color: var(--sklearn-color-background);\n",
       "}\n",
       "\n",
       "#sk-container-id-21 div.sk-container {\n",
       "  /* jupyter's `normalize.less` sets `[hidden] { display: none; }`\n",
       "     but bootstrap.min.css set `[hidden] { display: none !important; }`\n",
       "     so we also need the `!important` here to be able to override the\n",
       "     default hidden behavior on the sphinx rendered scikit-learn.org.\n",
       "     See: https://github.com/scikit-learn/scikit-learn/issues/21755 */\n",
       "  display: inline-block !important;\n",
       "  position: relative;\n",
       "}\n",
       "\n",
       "#sk-container-id-21 div.sk-text-repr-fallback {\n",
       "  display: none;\n",
       "}\n",
       "\n",
       "div.sk-parallel-item,\n",
       "div.sk-serial,\n",
       "div.sk-item {\n",
       "  /* draw centered vertical line to link estimators */\n",
       "  background-image: linear-gradient(var(--sklearn-color-text-on-default-background), var(--sklearn-color-text-on-default-background));\n",
       "  background-size: 2px 100%;\n",
       "  background-repeat: no-repeat;\n",
       "  background-position: center center;\n",
       "}\n",
       "\n",
       "/* Parallel-specific style estimator block */\n",
       "\n",
       "#sk-container-id-21 div.sk-parallel-item::after {\n",
       "  content: \"\";\n",
       "  width: 100%;\n",
       "  border-bottom: 2px solid var(--sklearn-color-text-on-default-background);\n",
       "  flex-grow: 1;\n",
       "}\n",
       "\n",
       "#sk-container-id-21 div.sk-parallel {\n",
       "  display: flex;\n",
       "  align-items: stretch;\n",
       "  justify-content: center;\n",
       "  background-color: var(--sklearn-color-background);\n",
       "  position: relative;\n",
       "}\n",
       "\n",
       "#sk-container-id-21 div.sk-parallel-item {\n",
       "  display: flex;\n",
       "  flex-direction: column;\n",
       "}\n",
       "\n",
       "#sk-container-id-21 div.sk-parallel-item:first-child::after {\n",
       "  align-self: flex-end;\n",
       "  width: 50%;\n",
       "}\n",
       "\n",
       "#sk-container-id-21 div.sk-parallel-item:last-child::after {\n",
       "  align-self: flex-start;\n",
       "  width: 50%;\n",
       "}\n",
       "\n",
       "#sk-container-id-21 div.sk-parallel-item:only-child::after {\n",
       "  width: 0;\n",
       "}\n",
       "\n",
       "/* Serial-specific style estimator block */\n",
       "\n",
       "#sk-container-id-21 div.sk-serial {\n",
       "  display: flex;\n",
       "  flex-direction: column;\n",
       "  align-items: center;\n",
       "  background-color: var(--sklearn-color-background);\n",
       "  padding-right: 1em;\n",
       "  padding-left: 1em;\n",
       "}\n",
       "\n",
       "\n",
       "/* Toggleable style: style used for estimator/Pipeline/ColumnTransformer box that is\n",
       "clickable and can be expanded/collapsed.\n",
       "- Pipeline and ColumnTransformer use this feature and define the default style\n",
       "- Estimators will overwrite some part of the style using the `sk-estimator` class\n",
       "*/\n",
       "\n",
       "/* Pipeline and ColumnTransformer style (default) */\n",
       "\n",
       "#sk-container-id-21 div.sk-toggleable {\n",
       "  /* Default theme specific background. It is overwritten whether we have a\n",
       "  specific estimator or a Pipeline/ColumnTransformer */\n",
       "  background-color: var(--sklearn-color-background);\n",
       "}\n",
       "\n",
       "/* Toggleable label */\n",
       "#sk-container-id-21 label.sk-toggleable__label {\n",
       "  cursor: pointer;\n",
       "  display: block;\n",
       "  width: 100%;\n",
       "  margin-bottom: 0;\n",
       "  padding: 0.5em;\n",
       "  box-sizing: border-box;\n",
       "  text-align: center;\n",
       "}\n",
       "\n",
       "#sk-container-id-21 label.sk-toggleable__label-arrow:before {\n",
       "  /* Arrow on the left of the label */\n",
       "  content: \"▸\";\n",
       "  float: left;\n",
       "  margin-right: 0.25em;\n",
       "  color: var(--sklearn-color-icon);\n",
       "}\n",
       "\n",
       "#sk-container-id-21 label.sk-toggleable__label-arrow:hover:before {\n",
       "  color: var(--sklearn-color-text);\n",
       "}\n",
       "\n",
       "/* Toggleable content - dropdown */\n",
       "\n",
       "#sk-container-id-21 div.sk-toggleable__content {\n",
       "  max-height: 0;\n",
       "  max-width: 0;\n",
       "  overflow: hidden;\n",
       "  text-align: left;\n",
       "  /* unfitted */\n",
       "  background-color: var(--sklearn-color-unfitted-level-0);\n",
       "}\n",
       "\n",
       "#sk-container-id-21 div.sk-toggleable__content.fitted {\n",
       "  /* fitted */\n",
       "  background-color: var(--sklearn-color-fitted-level-0);\n",
       "}\n",
       "\n",
       "#sk-container-id-21 div.sk-toggleable__content pre {\n",
       "  margin: 0.2em;\n",
       "  border-radius: 0.25em;\n",
       "  color: var(--sklearn-color-text);\n",
       "  /* unfitted */\n",
       "  background-color: var(--sklearn-color-unfitted-level-0);\n",
       "}\n",
       "\n",
       "#sk-container-id-21 div.sk-toggleable__content.fitted pre {\n",
       "  /* unfitted */\n",
       "  background-color: var(--sklearn-color-fitted-level-0);\n",
       "}\n",
       "\n",
       "#sk-container-id-21 input.sk-toggleable__control:checked~div.sk-toggleable__content {\n",
       "  /* Expand drop-down */\n",
       "  max-height: 200px;\n",
       "  max-width: 100%;\n",
       "  overflow: auto;\n",
       "}\n",
       "\n",
       "#sk-container-id-21 input.sk-toggleable__control:checked~label.sk-toggleable__label-arrow:before {\n",
       "  content: \"▾\";\n",
       "}\n",
       "\n",
       "/* Pipeline/ColumnTransformer-specific style */\n",
       "\n",
       "#sk-container-id-21 div.sk-label input.sk-toggleable__control:checked~label.sk-toggleable__label {\n",
       "  color: var(--sklearn-color-text);\n",
       "  background-color: var(--sklearn-color-unfitted-level-2);\n",
       "}\n",
       "\n",
       "#sk-container-id-21 div.sk-label.fitted input.sk-toggleable__control:checked~label.sk-toggleable__label {\n",
       "  background-color: var(--sklearn-color-fitted-level-2);\n",
       "}\n",
       "\n",
       "/* Estimator-specific style */\n",
       "\n",
       "/* Colorize estimator box */\n",
       "#sk-container-id-21 div.sk-estimator input.sk-toggleable__control:checked~label.sk-toggleable__label {\n",
       "  /* unfitted */\n",
       "  background-color: var(--sklearn-color-unfitted-level-2);\n",
       "}\n",
       "\n",
       "#sk-container-id-21 div.sk-estimator.fitted input.sk-toggleable__control:checked~label.sk-toggleable__label {\n",
       "  /* fitted */\n",
       "  background-color: var(--sklearn-color-fitted-level-2);\n",
       "}\n",
       "\n",
       "#sk-container-id-21 div.sk-label label.sk-toggleable__label,\n",
       "#sk-container-id-21 div.sk-label label {\n",
       "  /* The background is the default theme color */\n",
       "  color: var(--sklearn-color-text-on-default-background);\n",
       "}\n",
       "\n",
       "/* On hover, darken the color of the background */\n",
       "#sk-container-id-21 div.sk-label:hover label.sk-toggleable__label {\n",
       "  color: var(--sklearn-color-text);\n",
       "  background-color: var(--sklearn-color-unfitted-level-2);\n",
       "}\n",
       "\n",
       "/* Label box, darken color on hover, fitted */\n",
       "#sk-container-id-21 div.sk-label.fitted:hover label.sk-toggleable__label.fitted {\n",
       "  color: var(--sklearn-color-text);\n",
       "  background-color: var(--sklearn-color-fitted-level-2);\n",
       "}\n",
       "\n",
       "/* Estimator label */\n",
       "\n",
       "#sk-container-id-21 div.sk-label label {\n",
       "  font-family: monospace;\n",
       "  font-weight: bold;\n",
       "  display: inline-block;\n",
       "  line-height: 1.2em;\n",
       "}\n",
       "\n",
       "#sk-container-id-21 div.sk-label-container {\n",
       "  text-align: center;\n",
       "}\n",
       "\n",
       "/* Estimator-specific */\n",
       "#sk-container-id-21 div.sk-estimator {\n",
       "  font-family: monospace;\n",
       "  border: 1px dotted var(--sklearn-color-border-box);\n",
       "  border-radius: 0.25em;\n",
       "  box-sizing: border-box;\n",
       "  margin-bottom: 0.5em;\n",
       "  /* unfitted */\n",
       "  background-color: var(--sklearn-color-unfitted-level-0);\n",
       "}\n",
       "\n",
       "#sk-container-id-21 div.sk-estimator.fitted {\n",
       "  /* fitted */\n",
       "  background-color: var(--sklearn-color-fitted-level-0);\n",
       "}\n",
       "\n",
       "/* on hover */\n",
       "#sk-container-id-21 div.sk-estimator:hover {\n",
       "  /* unfitted */\n",
       "  background-color: var(--sklearn-color-unfitted-level-2);\n",
       "}\n",
       "\n",
       "#sk-container-id-21 div.sk-estimator.fitted:hover {\n",
       "  /* fitted */\n",
       "  background-color: var(--sklearn-color-fitted-level-2);\n",
       "}\n",
       "\n",
       "/* Specification for estimator info (e.g. \"i\" and \"?\") */\n",
       "\n",
       "/* Common style for \"i\" and \"?\" */\n",
       "\n",
       ".sk-estimator-doc-link,\n",
       "a:link.sk-estimator-doc-link,\n",
       "a:visited.sk-estimator-doc-link {\n",
       "  float: right;\n",
       "  font-size: smaller;\n",
       "  line-height: 1em;\n",
       "  font-family: monospace;\n",
       "  background-color: var(--sklearn-color-background);\n",
       "  border-radius: 1em;\n",
       "  height: 1em;\n",
       "  width: 1em;\n",
       "  text-decoration: none !important;\n",
       "  margin-left: 1ex;\n",
       "  /* unfitted */\n",
       "  border: var(--sklearn-color-unfitted-level-1) 1pt solid;\n",
       "  color: var(--sklearn-color-unfitted-level-1);\n",
       "}\n",
       "\n",
       ".sk-estimator-doc-link.fitted,\n",
       "a:link.sk-estimator-doc-link.fitted,\n",
       "a:visited.sk-estimator-doc-link.fitted {\n",
       "  /* fitted */\n",
       "  border: var(--sklearn-color-fitted-level-1) 1pt solid;\n",
       "  color: var(--sklearn-color-fitted-level-1);\n",
       "}\n",
       "\n",
       "/* On hover */\n",
       "div.sk-estimator:hover .sk-estimator-doc-link:hover,\n",
       ".sk-estimator-doc-link:hover,\n",
       "div.sk-label-container:hover .sk-estimator-doc-link:hover,\n",
       ".sk-estimator-doc-link:hover {\n",
       "  /* unfitted */\n",
       "  background-color: var(--sklearn-color-unfitted-level-3);\n",
       "  color: var(--sklearn-color-background);\n",
       "  text-decoration: none;\n",
       "}\n",
       "\n",
       "div.sk-estimator.fitted:hover .sk-estimator-doc-link.fitted:hover,\n",
       ".sk-estimator-doc-link.fitted:hover,\n",
       "div.sk-label-container:hover .sk-estimator-doc-link.fitted:hover,\n",
       ".sk-estimator-doc-link.fitted:hover {\n",
       "  /* fitted */\n",
       "  background-color: var(--sklearn-color-fitted-level-3);\n",
       "  color: var(--sklearn-color-background);\n",
       "  text-decoration: none;\n",
       "}\n",
       "\n",
       "/* Span, style for the box shown on hovering the info icon */\n",
       ".sk-estimator-doc-link span {\n",
       "  display: none;\n",
       "  z-index: 9999;\n",
       "  position: relative;\n",
       "  font-weight: normal;\n",
       "  right: .2ex;\n",
       "  padding: .5ex;\n",
       "  margin: .5ex;\n",
       "  width: min-content;\n",
       "  min-width: 20ex;\n",
       "  max-width: 50ex;\n",
       "  color: var(--sklearn-color-text);\n",
       "  box-shadow: 2pt 2pt 4pt #999;\n",
       "  /* unfitted */\n",
       "  background: var(--sklearn-color-unfitted-level-0);\n",
       "  border: .5pt solid var(--sklearn-color-unfitted-level-3);\n",
       "}\n",
       "\n",
       ".sk-estimator-doc-link.fitted span {\n",
       "  /* fitted */\n",
       "  background: var(--sklearn-color-fitted-level-0);\n",
       "  border: var(--sklearn-color-fitted-level-3);\n",
       "}\n",
       "\n",
       ".sk-estimator-doc-link:hover span {\n",
       "  display: block;\n",
       "}\n",
       "\n",
       "/* \"?\"-specific style due to the `<a>` HTML tag */\n",
       "\n",
       "#sk-container-id-21 a.estimator_doc_link {\n",
       "  float: right;\n",
       "  font-size: 1rem;\n",
       "  line-height: 1em;\n",
       "  font-family: monospace;\n",
       "  background-color: var(--sklearn-color-background);\n",
       "  border-radius: 1rem;\n",
       "  height: 1rem;\n",
       "  width: 1rem;\n",
       "  text-decoration: none;\n",
       "  /* unfitted */\n",
       "  color: var(--sklearn-color-unfitted-level-1);\n",
       "  border: var(--sklearn-color-unfitted-level-1) 1pt solid;\n",
       "}\n",
       "\n",
       "#sk-container-id-21 a.estimator_doc_link.fitted {\n",
       "  /* fitted */\n",
       "  border: var(--sklearn-color-fitted-level-1) 1pt solid;\n",
       "  color: var(--sklearn-color-fitted-level-1);\n",
       "}\n",
       "\n",
       "/* On hover */\n",
       "#sk-container-id-21 a.estimator_doc_link:hover {\n",
       "  /* unfitted */\n",
       "  background-color: var(--sklearn-color-unfitted-level-3);\n",
       "  color: var(--sklearn-color-background);\n",
       "  text-decoration: none;\n",
       "}\n",
       "\n",
       "#sk-container-id-21 a.estimator_doc_link.fitted:hover {\n",
       "  /* fitted */\n",
       "  background-color: var(--sklearn-color-fitted-level-3);\n",
       "}\n",
       "</style><div id=\"sk-container-id-21\" class=\"sk-top-container\"><div class=\"sk-text-repr-fallback\"><pre>LogisticRegression(solver=&#x27;liblinear&#x27;)</pre><b>In a Jupyter environment, please rerun this cell to show the HTML representation or trust the notebook. <br />On GitHub, the HTML representation is unable to render, please try loading this page with nbviewer.org.</b></div><div class=\"sk-container\" hidden><div class=\"sk-item\"><div class=\"sk-estimator fitted sk-toggleable\"><input class=\"sk-toggleable__control sk-hidden--visually\" id=\"sk-estimator-id-21\" type=\"checkbox\" checked><label for=\"sk-estimator-id-21\" class=\"sk-toggleable__label fitted sk-toggleable__label-arrow fitted\">&nbsp;&nbsp;LogisticRegression<a class=\"sk-estimator-doc-link fitted\" rel=\"noreferrer\" target=\"_blank\" href=\"https://scikit-learn.org/1.5/modules/generated/sklearn.linear_model.LogisticRegression.html\">?<span>Documentation for LogisticRegression</span></a><span class=\"sk-estimator-doc-link fitted\">i<span>Fitted</span></span></label><div class=\"sk-toggleable__content fitted\"><pre>LogisticRegression(solver=&#x27;liblinear&#x27;)</pre></div> </div></div></div></div>"
      ],
      "text/plain": [
       "LogisticRegression(solver='liblinear')"
      ]
     },
     "execution_count": 472,
     "metadata": {},
     "output_type": "execute_result"
    }
   ],
   "source": [
    "model = LogisticRegression(C=1.0, penalty='l2', solver='liblinear')\n",
    "model.fit(X_train, y_train)"
   ]
  },
  {
   "cell_type": "markdown",
   "id": "7f8fc5ab",
   "metadata": {},
   "source": [
    "#### Predictions"
   ]
  },
  {
   "cell_type": "code",
   "execution_count": 473,
   "id": "8fa7ebbe",
   "metadata": {},
   "outputs": [],
   "source": [
    "y_pred = model.predict(X_test)"
   ]
  },
  {
   "cell_type": "markdown",
   "id": "3efa8096",
   "metadata": {},
   "source": [
    "#### Evaluation Metrics"
   ]
  },
  {
   "cell_type": "code",
   "execution_count": 474,
   "id": "098e85b6",
   "metadata": {},
   "outputs": [],
   "source": [
    "precision = precision_score(y_test, y_pred, pos_label='good')\n",
    "recall = recall_score(y_test, y_pred, pos_label='good')\n",
    "f1 = f1_score(y_test, y_pred, pos_label='good')\n",
    "accuracy = accuracy_score(y_test, y_pred)"
   ]
  },
  {
   "cell_type": "markdown",
   "id": "3f662252",
   "metadata": {},
   "source": [
    "#### Print Evaluation Results"
   ]
  },
  {
   "cell_type": "code",
   "execution_count": 475,
   "id": "90d89b9a",
   "metadata": {},
   "outputs": [
    {
     "name": "stdout",
     "output_type": "stream",
     "text": [
      "Precision: 0.92\n",
      "Recall: 0.92\n",
      "F1-Score: 0.92\n",
      "Accuracy: 0.92\n"
     ]
    }
   ],
   "source": [
    "print(f\"Precision: {precision:.2f}\")\n",
    "print(f\"Recall: {recall:.2f}\")\n",
    "print(f\"F1-Score: {f1:.2f}\")\n",
    "print(f\"Accuracy: {accuracy:.2f}\")"
   ]
  },
  {
   "cell_type": "markdown",
   "id": "53bd8d50",
   "metadata": {},
   "source": [
    "#### Confusion Matrix Visualization"
   ]
  },
  {
   "cell_type": "code",
   "execution_count": 476,
   "id": "8ca5d45d",
   "metadata": {},
   "outputs": [
    {
     "data": {
      "text/plain": [
       "<sklearn.metrics._plot.confusion_matrix.ConfusionMatrixDisplay at 0x193b93b8bc0>"
      ]
     },
     "execution_count": 476,
     "metadata": {},
     "output_type": "execute_result"
    },
    {
     "data": {
      "image/png": "[encoded data removed]",
      "text/plain": [
       "<Figure size 640x480 with 2 Axes>"
      ]
     },
     "metadata": {},
     "output_type": "display_data"
    }
   ],
   "source": [
    "cm = confusion_matrix(y_test, y_pred, labels=['good', 'bad'])\n",
    "disp = ConfusionMatrixDisplay(confusion_matrix=cm, display_labels=['good', 'bad'])\n",
    "disp.plot()"
   ]
  },
  {
   "cell_type": "markdown",
   "id": "e17e127d",
   "metadata": {},
   "source": [
    "### Vectorization function"
   ]
  },
  {
   "cell_type": "code",
   "execution_count": 477,
   "id": "52f05261",
   "metadata": {},
   "outputs": [],
   "source": [
    "def text_preprocess_vectorize(texts, vectorizer=None):\n",
    "    processed_texts = []\n",
    "    for text in texts:\n",
    "        text = text.lower()\n",
    "        text = re.sub(f\"[{string.punctuation}]\", \"\", text)\n",
    "        text = re.sub(r'\\d+', '', text)\n",
    "        processed_texts.append(text)\n",
    "\n",
    "    if vectorizer is None:\n",
    "        vectorizer = TfidfVectorizer(stop_words='english')\n",
    "\n",
    "    vectors = vectorizer.fit_transform(processed_texts)\n",
    "    return vectors, vectorizer"
   ]
  },
  {
   "cell_type": "code",
   "execution_count": 478,
   "id": "41335be9",
   "metadata": {},
   "outputs": [],
   "source": [
    "def plot_tfidf_vectors(vectors, vectorizer, texts, threshold=0.1):\n",
    "    feature_names = vectorizer.get_feature_names_out()\n",
    "    tfidf_matrix = pd.DataFrame(vectors.toarray(), columns=feature_names)\n",
    "    print(\"\\nTF-IDF Matrix:\")\n",
    "    print(tfidf_matrix)\n",
    "\n",
    "    for idx, vector in enumerate(vectors):\n",
    "        vector_dense = vector.toarray().flatten()\n",
    "        significant_indices = np.where(vector_dense > threshold)[0]\n",
    "        significant_features = [feature_names[i] for i in significant_indices]\n",
    "        significant_values = vector_dense[significant_indices]\n",
    "\n",
    "        plt.figure(figsize=(8, 4))\n",
    "        plt.barh(significant_features, significant_values, color='skyblue')\n",
    "        plt.xlabel('TF-IDF Score')\n",
    "        plt.title(f'TF-IDF Features for Text {idx+1}')\n",
    "        plt.gca().invert_yaxis()\n",
    "        plt.show()"
   ]
  },
  {
   "cell_type": "markdown",
   "id": "6da04a26",
   "metadata": {},
   "source": [
    "#### Example usage"
   ]
  },
  {
   "cell_type": "code",
   "execution_count": 479,
   "id": "5a81900b",
   "metadata": {},
   "outputs": [
    {
     "name": "stdout",
     "output_type": "stream",
     "text": [
      "\n",
      "TF-IDF Matrix:\n",
      "   advertised   amazing   average       bad  beautiful       bit     broke  \\\n",
      "0    0.000000  0.459229  0.000000  0.000000   0.000000  0.459229  0.000000   \n",
      "1    0.000000  0.000000  0.000000  0.306631   0.000000  0.000000  0.373934   \n",
      "2    0.000000  0.000000  0.000000  0.000000   0.000000  0.000000  0.000000   \n",
      "3    0.000000  0.000000  0.000000  0.000000   0.435918  0.000000  0.000000   \n",
      "4    0.000000  0.000000  0.429767  0.352415   0.000000  0.000000  0.000000   \n",
      "5    0.389034  0.000000  0.000000  0.000000   0.000000  0.000000  0.000000   \n",
      "\n",
      "     buying  customer    design  ...  perfectly   product   quality   service  \\\n",
      "0  0.000000  0.000000  0.000000  ...   0.000000  0.235275  0.317930  0.000000   \n",
      "1  0.373934  0.000000  0.000000  ...   0.000000  0.000000  0.258879  0.000000   \n",
      "2  0.000000  0.000000  0.000000  ...   0.000000  0.238684  0.000000  0.382030   \n",
      "3  0.000000  0.000000  0.435918  ...   0.435918  0.223332  0.000000  0.000000   \n",
      "4  0.000000  0.000000  0.000000  ...   0.000000  0.220181  0.297533  0.000000   \n",
      "5  0.000000  0.389034  0.000000  ...   0.000000  0.199312  0.000000  0.319013   \n",
      "\n",
      "   terrible  unhelpful      week      work     works     worth  \n",
      "0  0.000000   0.000000  0.000000  0.000000  0.000000  0.000000  \n",
      "1  0.373934   0.000000  0.373934  0.000000  0.000000  0.373934  \n",
      "2  0.000000   0.000000  0.000000  0.000000  0.000000  0.000000  \n",
      "3  0.000000   0.000000  0.000000  0.000000  0.435918  0.000000  \n",
      "4  0.000000   0.000000  0.000000  0.000000  0.000000  0.000000  \n",
      "5  0.000000   0.389034  0.000000  0.389034  0.000000  0.000000  \n",
      "\n",
      "[6 rows x 32 columns]\n"
     ]
    },
    {
     "data": {
      "image/png": "[encoded data removed]",
      "text/plain": [
       "<Figure size 800x400 with 1 Axes>"
      ]
     },
     "metadata": {},
     "output_type": "display_data"
    },
    {
     "data": {
      "image/png": "[encoded data removed]",
      "text/plain": [
       "<Figure size 800x400 with 1 Axes>"
      ]
     },
     "metadata": {},
     "output_type": "display_data"
    },
    {
     "data": {
      "image/png": "[encoded data removed]",
      "text/plain": [
       "<Figure size 800x400 with 1 Axes>"
      ]
     },
     "metadata": {},
     "output_type": "display_data"
    },
    {
     "data": {
      "image/png": "[encoded data removed]",
      "text/plain": [
       "<Figure size 800x400 with 1 Axes>"
      ]
     },
     "metadata": {},
     "output_type": "display_data"
    },
    {
     "data": {
      "image/png": "[encoded data removed]",
      "text/plain": [
       "<Figure size 800x400 with 1 Axes>"
      ]
     },
     "metadata": {},
     "output_type": "display_data"
    },
    {
     "data": {
      "image/png": "[encoded data removed]",
      "text/plain": [
       "<Figure size 800x400 with 1 Axes>"
      ]
     },
     "metadata": {},
     "output_type": "display_data"
    }
   ],
   "source": [
    "sample_texts = [\"This product is amazing and the quality is excellent but I found it a bit expensive\",\n",
    "                \"Terrible item, not worth buying, the quality is bad and it broke after a week\",\n",
    "                \"The service was good, but the product did not meet my expectations\",\n",
    "                \"I love this product, it works perfectly and the design is beautiful\",\n",
    "                \"The product is okay, not great but not bad either, just average quality\",\n",
    "                \"I am disappointed with the product, it did not work as advertised and the customer service was unhelpful\"]\n",
    "\n",
    "sample_vectors, vectorizer = text_preprocess_vectorize(sample_texts)\n",
    "plot_tfidf_vectors(sample_vectors, vectorizer, sample_texts)\n"
   ]
  }
 ],
 "metadata": {
  "kernelspec": {
   "display_name": "base",
   "language": "python",
   "name": "python3"
  },
  "language_info": {
   "codemirror_mode": {
    "name": "ipython",
    "version": 3
   },
   "file_extension": ".py",
   "mimetype": "text/x-python",
   "name": "python",
   "nbconvert_exporter": "python",
   "pygments_lexer": "ipython3",
   "version": "3.12.7"
  }
 },
 "nbformat": 4,
 "nbformat_minor": 5
}
